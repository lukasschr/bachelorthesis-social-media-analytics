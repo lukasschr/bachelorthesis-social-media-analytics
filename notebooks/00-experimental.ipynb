{
 "cells": [
  {
   "cell_type": "code",
   "execution_count": 5,
   "id": "ed453f00",
   "metadata": {},
   "outputs": [],
   "source": [
    "%load_ext autoreload\n",
    "%autoreload 2"
   ]
  },
  {
   "cell_type": "markdown",
   "id": "a14c7f57",
   "metadata": {},
   "source": [
    "---"
   ]
  },
  {
   "cell_type": "code",
   "execution_count": 1,
   "id": "9b6c222e",
   "metadata": {},
   "outputs": [
    {
     "name": "stderr",
     "output_type": "stream",
     "text": [
      "2023-05-23 15:10:56,193 - INFO - initialize pipeline and load & transform list of tweets in raw dataframe...\n",
      "2023-05-23 15:11:02,453 - WARNING - starting data cleaning...\n",
      "2023-05-23 15:11:02,469 - INFO - formating date...\n",
      "2023-05-23 15:11:13,643 - WARNING - duplicate entries were found!\n",
      "2023-05-23 15:11:13,643 - INFO - clean _no_duplicates...\n",
      "2023-05-23 15:11:13,923 - WARNING - determine language for each entry...\n",
      "  1%|▊                                                                          | 8873/854238 [00:31<50:17, 280.20it/s]\n",
      "\n",
      "KeyboardInterrupt\n",
      "\n"
     ]
    }
   ],
   "source": [
    "from src.features.data_cleaning import *\n",
    "\n",
    "pipeline = CleaningPipeline(path='../data/raw/twitter_tweets_raw.pkl')\n",
    "cleaned_df = pipeline.run()\n",
    "\n",
    "cleaned_df.head(5)"
   ]
  },
  {
   "cell_type": "markdown",
   "id": "ab66109c",
   "metadata": {},
   "source": [
    "---"
   ]
  }
 ],
 "metadata": {
  "kernelspec": {
   "display_name": "Python 3 (ipykernel)",
   "language": "python",
   "name": "python3"
  },
  "language_info": {
   "codemirror_mode": {
    "name": "ipython",
    "version": 3
   },
   "file_extension": ".py",
   "mimetype": "text/x-python",
   "name": "python",
   "nbconvert_exporter": "python",
   "pygments_lexer": "ipython3",
   "version": "3.11.3"
  }
 },
 "nbformat": 4,
 "nbformat_minor": 5
}
