{
 "cells": [
  {
   "cell_type": "code",
   "execution_count": 8,
   "id": "ed453f00",
   "metadata": {},
   "outputs": [
    {
     "name": "stdout",
     "output_type": "stream",
     "text": [
      "The autoreload extension is already loaded. To reload it, use:\n",
      "  %reload_ext autoreload\n"
     ]
    }
   ],
   "source": [
    "%load_ext autoreload\n",
    "%autoreload 2"
   ]
  },
  {
   "cell_type": "markdown",
   "id": "a14c7f57",
   "metadata": {},
   "source": [
    "---"
   ]
  },
  {
   "cell_type": "code",
   "execution_count": 9,
   "id": "027a53f0",
   "metadata": {},
   "outputs": [],
   "source": [
    "%%script false\n",
    "from src import utils\n",
    "import itertools\n",
    "\n",
    "num_topics = [i for i in range(4, 74)]\n",
    "alpha = ['symmetric', 'asymmetric'] + [round(i*0.1, 1) for i in range(1, 10)]\n",
    "eta = ['symmetric', 'auto'] + [round(i*0.1, 1) for i in range(1, 10)]\n",
    "passes = [i for i in range(1, 2)]\n",
    "\n",
    "combinations = list(itertools.product(num_topics, alpha, eta, passes))\n",
    "combinations_dict = [{'num_topics': item[0], 'alpha': item[1], 'eta': item[2], 'passes': item[3]} for item in combinations]\n",
    "utils.safe_as_pkl(combinations_dict, '../models/list_parameter_combinations.pkl')"
   ]
  },
  {
   "cell_type": "markdown",
   "id": "ab66109c",
   "metadata": {},
   "source": [
    "---"
   ]
  }
 ],
 "metadata": {
  "kernelspec": {
   "display_name": "Python 3 (ipykernel)",
   "language": "python",
   "name": "python3"
  },
  "language_info": {
   "codemirror_mode": {
    "name": "ipython",
    "version": 3
   },
   "file_extension": ".py",
   "mimetype": "text/x-python",
   "name": "python",
   "nbconvert_exporter": "python",
   "pygments_lexer": "ipython3",
   "version": "3.11.3"
  }
 },
 "nbformat": 4,
 "nbformat_minor": 5
}
