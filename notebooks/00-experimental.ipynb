{
 "cells": [
  {
   "cell_type": "markdown",
   "id": "85080f53",
   "metadata": {},
   "source": [
    "# Notebook Experimental"
   ]
  },
  {
   "cell_type": "markdown",
   "id": "dca41280",
   "metadata": {},
   "source": [
    "Dieses Notebook kann dazu verwendet werden, außerhalb des durch die anderen Notebooks vorgegebenen Prozesses Code zu schreiben und zu testen - ohne dabei direkten Einfluss auf den Prozess zu nehmen. Typische Anwendungsbeispiele finden Sie unten aufgelistet."
   ]
  },
  {
   "cell_type": "code",
   "execution_count": 1,
   "id": "ed453f00",
   "metadata": {},
   "outputs": [],
   "source": [
    "%load_ext autoreload\n",
    "%autoreload 2"
   ]
  },
  {
   "cell_type": "markdown",
   "id": "a14c7f57",
   "metadata": {},
   "source": [
    "---"
   ]
  },
  {
   "cell_type": "markdown",
   "id": "f870e613",
   "metadata": {},
   "source": [
    "#### Anzeigen des Intermediate Datensatzes"
   ]
  },
  {
   "cell_type": "code",
   "execution_count": 2,
   "id": "ed38939f",
   "metadata": {},
   "outputs": [
    {
     "data": {
      "text/html": [
       "<div>\n",
       "<style scoped>\n",
       "    .dataframe tbody tr th:only-of-type {\n",
       "        vertical-align: middle;\n",
       "    }\n",
       "\n",
       "    .dataframe tbody tr th {\n",
       "        vertical-align: top;\n",
       "    }\n",
       "\n",
       "    .dataframe thead th {\n",
       "        text-align: right;\n",
       "    }\n",
       "</style>\n",
       "<table border=\"1\" class=\"dataframe\">\n",
       "  <thead>\n",
       "    <tr style=\"text-align: right;\">\n",
       "      <th></th>\n",
       "      <th>url</th>\n",
       "      <th>date</th>\n",
       "      <th>rawContent</th>\n",
       "    </tr>\n",
       "  </thead>\n",
       "  <tbody>\n",
       "    <tr>\n",
       "      <th>0</th>\n",
       "      <td>https://twitter.com/_Bob_S/status/164159110508...</td>\n",
       "      <td>2023-03-30 23:59:00</td>\n",
       "      <td>Govt IT security isnt 'a nice thing to do': it...</td>\n",
       "    </tr>\n",
       "    <tr>\n",
       "      <th>1</th>\n",
       "      <td>https://twitter.com/WYSIWYGVentures/status/164...</td>\n",
       "      <td>2023-03-30 23:59:00</td>\n",
       "      <td>ISC West 2023: Cyberattackers Are Targeting Ph...</td>\n",
       "    </tr>\n",
       "    <tr>\n",
       "      <th>2</th>\n",
       "      <td>https://twitter.com/HackerAran7/status/1641591...</td>\n",
       "      <td>2023-03-30 23:59:00</td>\n",
       "      <td>What’s the hack. #stem #science #stemeducation...</td>\n",
       "    </tr>\n",
       "    <tr>\n",
       "      <th>3</th>\n",
       "      <td>https://twitter.com/bytefeedai/status/16415909...</td>\n",
       "      <td>2023-03-30 23:59:00</td>\n",
       "      <td>BuzzFeed Is Using AI To Write SEO-Bait Travel ...</td>\n",
       "    </tr>\n",
       "  </tbody>\n",
       "</table>\n",
       "</div>"
      ],
      "text/plain": [
       "                                                 url                date  \\\n",
       "0  https://twitter.com/_Bob_S/status/164159110508... 2023-03-30 23:59:00   \n",
       "1  https://twitter.com/WYSIWYGVentures/status/164... 2023-03-30 23:59:00   \n",
       "2  https://twitter.com/HackerAran7/status/1641591... 2023-03-30 23:59:00   \n",
       "3  https://twitter.com/bytefeedai/status/16415909... 2023-03-30 23:59:00   \n",
       "\n",
       "                                          rawContent  \n",
       "0  Govt IT security isnt 'a nice thing to do': it...  \n",
       "1  ISC West 2023: Cyberattackers Are Targeting Ph...  \n",
       "2  What’s the hack. #stem #science #stemeducation...  \n",
       "3  BuzzFeed Is Using AI To Write SEO-Bait Travel ...  "
      ]
     },
     "execution_count": 2,
     "metadata": {},
     "output_type": "execute_result"
    }
   ],
   "source": [
    "import pandas as pd\n",
    "\n",
    "df = pd.read_feather('../data/intermediate/twitter_tweets_intermediate.feather')\n",
    "df.head(4)"
   ]
  },
  {
   "cell_type": "markdown",
   "id": "75d9d3d6",
   "metadata": {},
   "source": [
    "#### Generierung der list_parameter_combinations.pkl\n",
    "\n",
    "Die Erstellung dieser Datei ist notwenig, um das Hyperparameter Tuning headless durchführen zu können"
   ]
  },
  {
   "cell_type": "code",
   "execution_count": 1,
   "id": "027a53f0",
   "metadata": {},
   "outputs": [],
   "source": [
    "# %%script false\n",
    "from src import utils\n",
    "import itertools\n",
    "\n",
    "num_topics = [i for i in range(13, 24)]\n",
    "alpha = ['symmetric', 'asymmetric'] + [0.1, 0.2, 0.3]\n",
    "eta = [0.5, 0.6, 0.7, 0.9]\n",
    "passes = [i for i in range(10, 13)]\n",
    "\n",
    "combinations = list(itertools.product(num_topics, alpha, eta, passes))\n",
    "combinations_dict = [{'num_topics': item[0], 'alpha': item[1], 'eta': item[2], 'passes': item[3]} for item in combinations]\n",
    "utils.safe_as_pkl(combinations_dict, '../data/modeling/list_parameter_combinations.pkl')"
   ]
  },
  {
   "cell_type": "markdown",
   "id": "efa423b3",
   "metadata": {},
   "source": [
    "#### Widerherstellen der Hyperparameter Tuning Resultate\n",
    "\n",
    "Mithilfe der Cache-Datei können die Ergebnisse des Hyperparameter Tunings widerhergestellt werden"
   ]
  },
  {
   "cell_type": "code",
   "execution_count": 6,
   "id": "0cd6f995",
   "metadata": {},
   "outputs": [],
   "source": [
    "import pandas as pd\n",
    "from src.utils import load_pkl\n",
    "\n",
    "results = load_pkl('../data/modeling/cache_hyperparameter_tuning_2.pkl')\n",
    "df = pd.DataFrame(results).astype(str)\n",
    "df.to_feather('../data/modeling/ht_results_randomsearch.feather')"
   ]
  },
  {
   "cell_type": "markdown",
   "id": "e89882a7",
   "metadata": {},
   "source": [
    "#### Berechnung wie viele Tweets Fremdspachen enthalten"
   ]
  },
  {
   "cell_type": "code",
   "execution_count": 2,
   "id": "6be379a4",
   "metadata": {},
   "outputs": [
    {
     "data": {
      "text/plain": [
       "2312"
      ]
     },
     "execution_count": 2,
     "metadata": {},
     "output_type": "execute_result"
    }
   ],
   "source": [
    "from src.data.nitter_scraper_standalone_v2 import Tweet, TweetScraper\n",
    "import pandas as pd\n",
    "\n",
    "list_of_tweets = TweetScraper.load_collected_tweets(path='../data/raw/twitter_tweets_raw.pkl')\n",
    "dict_of_tweets =  [{\"url\": tweet.url, \"date\": tweet.date, \"rawContent\": tweet.rawContent} for tweet in list_of_tweets]\n",
    "df1 = pd.DataFrame(dict_of_tweets)\n",
    "df2 = pd.read_feather('../data/intermediate/twitter_tweets_intermediate.feather')\n",
    "\n",
    "x = len(df1) - len(df2) - 140772\n",
    "x"
   ]
  },
  {
   "cell_type": "code",
   "execution_count": 3,
   "id": "a36a18f9",
   "metadata": {},
   "outputs": [
    {
     "data": {
      "text/plain": [
       "851926"
      ]
     },
     "execution_count": 3,
     "metadata": {},
     "output_type": "execute_result"
    }
   ],
   "source": [
    "len(df2)"
   ]
  },
  {
   "cell_type": "markdown",
   "id": "6995809f",
   "metadata": {},
   "source": [
    "#### Test twitter_scraper_standalone"
   ]
  },
  {
   "cell_type": "code",
   "execution_count": 6,
   "id": "f69b8a58",
   "metadata": {},
   "outputs": [
    {
     "data": {
      "text/html": [
       "<div>\n",
       "<style scoped>\n",
       "    .dataframe tbody tr th:only-of-type {\n",
       "        vertical-align: middle;\n",
       "    }\n",
       "\n",
       "    .dataframe tbody tr th {\n",
       "        vertical-align: top;\n",
       "    }\n",
       "\n",
       "    .dataframe thead th {\n",
       "        text-align: right;\n",
       "    }\n",
       "</style>\n",
       "<table border=\"1\" class=\"dataframe\">\n",
       "  <thead>\n",
       "    <tr style=\"text-align: right;\">\n",
       "      <th></th>\n",
       "      <th>url</th>\n",
       "      <th>date</th>\n",
       "      <th>rawContent</th>\n",
       "      <th>lang</th>\n",
       "      <th>replyCount</th>\n",
       "      <th>retweetCount</th>\n",
       "      <th>likeCount</th>\n",
       "    </tr>\n",
       "  </thead>\n",
       "  <tbody>\n",
       "    <tr>\n",
       "      <th>0</th>\n",
       "      <td>https://twitter.com/AgileScrumGuide/status/980595436082769920</td>\n",
       "      <td>2018-04-01 23:59:05+00:00</td>\n",
       "      <td>[ video ]\\nAgile Has a Long and Colorful Heritage \\nvimeo.com/259429846 \\n\\n#agile #scrum #business #IT #tech #technology #startup #innovators #visionary #visionaries #entrepreneur #history #agilehistory #heritage #agileheritage #timeline #success #minisode #vimeo #video https://t.co/CfME8acq5T</td>\n",
       "      <td>en</td>\n",
       "      <td>0</td>\n",
       "      <td>2</td>\n",
       "      <td>8</td>\n",
       "    </tr>\n",
       "    <tr>\n",
       "      <th>1</th>\n",
       "      <td>https://twitter.com/CioAmaro/status/980595423055314946</td>\n",
       "      <td>2018-04-01 23:59:02+00:00</td>\n",
       "      <td>Evidently there are no enough cyber security staff. Why?\\n#Infosec #CyberSecurity #CyberAttack #Hack #Breach #Threat #DDoS #CyberWarfare  #Malware #Ransomware #Cyberwarning #Phishing #SpyWare\\n#Tech #Technology #Health #HealthTech https://t.co/xneGxntbwT</td>\n",
       "      <td>en</td>\n",
       "      <td>1</td>\n",
       "      <td>3</td>\n",
       "      <td>4</td>\n",
       "    </tr>\n",
       "    <tr>\n",
       "      <th>2</th>\n",
       "      <td>https://twitter.com/MelissaOnline/status/980595389131821056</td>\n",
       "      <td>2018-04-01 23:58:54+00:00</td>\n",
       "      <td>#Women in NYC #Tech: Sybil Steele of Temme Media alleywat.ch/2J9jQ7U via @alleywatch https://t.co/ENMnKi1yJk</td>\n",
       "      <td>en</td>\n",
       "      <td>0</td>\n",
       "      <td>0</td>\n",
       "      <td>3</td>\n",
       "    </tr>\n",
       "    <tr>\n",
       "      <th>3</th>\n",
       "      <td>https://twitter.com/DigitalKeith/status/980595211163328512</td>\n",
       "      <td>2018-04-01 23:58:11+00:00</td>\n",
       "      <td>A great #Startup bit.ly/2rO25WL #Innovation #GrowthHacking #bigdata #Disruption #makeyourownlane #defstar5 #IoT #Mpgvip by #homejobsbass https://t.co/Usylj2L2Ln</td>\n",
       "      <td>en</td>\n",
       "      <td>0</td>\n",
       "      <td>1</td>\n",
       "      <td>2</td>\n",
       "    </tr>\n",
       "    <tr>\n",
       "      <th>4</th>\n",
       "      <td>https://twitter.com/Ananna16/status/980595108759269376</td>\n",
       "      <td>2018-04-01 23:57:47+00:00</td>\n",
       "      <td>#Discount | 26 Best #MachineLearning and #DeepLearning Courses for #DataScientists \\n\\ngoo.gl/eN8ffC\\n\\n#AI #ArtificialIntelligence #DataScientist #IoT #IIoT #BigData #tech #Python #DataScience #Analytics #BigDataAnalytics #Business #tutorial #eLearning @ahmedjr_16</td>\n",
       "      <td>en</td>\n",
       "      <td>0</td>\n",
       "      <td>8</td>\n",
       "      <td>5</td>\n",
       "    </tr>\n",
       "    <tr>\n",
       "      <th>...</th>\n",
       "      <td>...</td>\n",
       "      <td>...</td>\n",
       "      <td>...</td>\n",
       "      <td>...</td>\n",
       "      <td>...</td>\n",
       "      <td>...</td>\n",
       "      <td>...</td>\n",
       "    </tr>\n",
       "    <tr>\n",
       "      <th>95</th>\n",
       "      <td>https://twitter.com/FusionBIM/status/980582574547456001</td>\n",
       "      <td>2018-04-01 23:07:58+00:00</td>\n",
       "      <td>The latest The fusionBIM Daily! paper.li/FusionBIM/1504… #innovation</td>\n",
       "      <td>en</td>\n",
       "      <td>0</td>\n",
       "      <td>1</td>\n",
       "      <td>1</td>\n",
       "    </tr>\n",
       "    <tr>\n",
       "      <th>96</th>\n",
       "      <td>https://twitter.com/grattongirl/status/980582506046148608</td>\n",
       "      <td>2018-04-01 23:07:42+00:00</td>\n",
       "      <td>What are some application use cases for #IoT?#BigData #SmartCity #fintech #AI #ML #startups #innovation @Fisher85M #Sensors #IIoT #Healthcare https://t.co/IccFT37tYe</td>\n",
       "      <td>en</td>\n",
       "      <td>0</td>\n",
       "      <td>7</td>\n",
       "      <td>5</td>\n",
       "    </tr>\n",
       "    <tr>\n",
       "      <th>97</th>\n",
       "      <td>https://twitter.com/climatebabes/status/980582485124943872</td>\n",
       "      <td>2018-04-01 23:07:37+00:00</td>\n",
       "      <td>Why not a moveable solar restaurant? #france #innovation #solar youtube.com/watch?v=XnghjZ…</td>\n",
       "      <td>en</td>\n",
       "      <td>0</td>\n",
       "      <td>1</td>\n",
       "      <td>1</td>\n",
       "    </tr>\n",
       "    <tr>\n",
       "      <th>98</th>\n",
       "      <td>https://twitter.com/agarwalm/status/980582444930945024</td>\n",
       "      <td>2018-04-01 23:07:27+00:00</td>\n",
       "      <td>The latest The Innovation Daily! paper.li/e-1499468771?e… #innovation #technology</td>\n",
       "      <td>en</td>\n",
       "      <td>0</td>\n",
       "      <td>1</td>\n",
       "      <td>1</td>\n",
       "    </tr>\n",
       "    <tr>\n",
       "      <th>99</th>\n",
       "      <td>https://twitter.com/TechIndustry_b/status/980582355147489280</td>\n",
       "      <td>2018-04-01 23:07:06+00:00</td>\n",
       "      <td>They Tried to Boycott Facebook, Apple and Google. They Failed.\\nplow.io/post/they-trie…\\n+1 MediaBot #tech</td>\n",
       "      <td>en</td>\n",
       "      <td>0</td>\n",
       "      <td>0</td>\n",
       "      <td>1</td>\n",
       "    </tr>\n",
       "  </tbody>\n",
       "</table>\n",
       "<p>100 rows × 7 columns</p>\n",
       "</div>"
      ],
      "text/plain": [
       "                                                              url  \\\n",
       "0   https://twitter.com/AgileScrumGuide/status/980595436082769920   \n",
       "1          https://twitter.com/CioAmaro/status/980595423055314946   \n",
       "2     https://twitter.com/MelissaOnline/status/980595389131821056   \n",
       "3      https://twitter.com/DigitalKeith/status/980595211163328512   \n",
       "4          https://twitter.com/Ananna16/status/980595108759269376   \n",
       "..                                                            ...   \n",
       "95        https://twitter.com/FusionBIM/status/980582574547456001   \n",
       "96      https://twitter.com/grattongirl/status/980582506046148608   \n",
       "97     https://twitter.com/climatebabes/status/980582485124943872   \n",
       "98         https://twitter.com/agarwalm/status/980582444930945024   \n",
       "99   https://twitter.com/TechIndustry_b/status/980582355147489280   \n",
       "\n",
       "                        date  \\\n",
       "0  2018-04-01 23:59:05+00:00   \n",
       "1  2018-04-01 23:59:02+00:00   \n",
       "2  2018-04-01 23:58:54+00:00   \n",
       "3  2018-04-01 23:58:11+00:00   \n",
       "4  2018-04-01 23:57:47+00:00   \n",
       "..                       ...   \n",
       "95 2018-04-01 23:07:58+00:00   \n",
       "96 2018-04-01 23:07:42+00:00   \n",
       "97 2018-04-01 23:07:37+00:00   \n",
       "98 2018-04-01 23:07:27+00:00   \n",
       "99 2018-04-01 23:07:06+00:00   \n",
       "\n",
       "                                                                                                                                                                                                                                                                                                 rawContent  \\\n",
       "0   [ video ]\\nAgile Has a Long and Colorful Heritage \\nvimeo.com/259429846 \\n\\n#agile #scrum #business #IT #tech #technology #startup #innovators #visionary #visionaries #entrepreneur #history #agilehistory #heritage #agileheritage #timeline #success #minisode #vimeo #video https://t.co/CfME8acq5T   \n",
       "1                                            Evidently there are no enough cyber security staff. Why?\\n#Infosec #CyberSecurity #CyberAttack #Hack #Breach #Threat #DDoS #CyberWarfare  #Malware #Ransomware #Cyberwarning #Phishing #SpyWare\\n#Tech #Technology #Health #HealthTech https://t.co/xneGxntbwT   \n",
       "2                                                                                                                                                                                              #Women in NYC #Tech: Sybil Steele of Temme Media alleywat.ch/2J9jQ7U via @alleywatch https://t.co/ENMnKi1yJk   \n",
       "3                                                                                                                                          A great #Startup bit.ly/2rO25WL #Innovation #GrowthHacking #bigdata #Disruption #makeyourownlane #defstar5 #IoT #Mpgvip by #homejobsbass https://t.co/Usylj2L2Ln   \n",
       "4                                 #Discount | 26 Best #MachineLearning and #DeepLearning Courses for #DataScientists \\n\\ngoo.gl/eN8ffC\\n\\n#AI #ArtificialIntelligence #DataScientist #IoT #IIoT #BigData #tech #Python #DataScience #Analytics #BigDataAnalytics #Business #tutorial #eLearning @ahmedjr_16   \n",
       "..                                                                                                                                                                                                                                                                                                      ...   \n",
       "95                                                                                                                                                                                                                                     The latest The fusionBIM Daily! paper.li/FusionBIM/1504… #innovation   \n",
       "96                                                                                                                                    What are some application use cases for #IoT?#BigData #SmartCity #fintech #AI #ML #startups #innovation @Fisher85M #Sensors #IIoT #Healthcare https://t.co/IccFT37tYe   \n",
       "97                                                                                                                                                                                                              Why not a moveable solar restaurant? #france #innovation #solar youtube.com/watch?v=XnghjZ…   \n",
       "98                                                                                                                                                                                                                        The latest The Innovation Daily! paper.li/e-1499468771?e… #innovation #technology   \n",
       "99                                                                                                                                                                                               They Tried to Boycott Facebook, Apple and Google. They Failed.\\nplow.io/post/they-trie…\\n+1 MediaBot #tech   \n",
       "\n",
       "   lang  replyCount  retweetCount  likeCount  \n",
       "0    en           0             2          8  \n",
       "1    en           1             3          4  \n",
       "2    en           0             0          3  \n",
       "3    en           0             1          2  \n",
       "4    en           0             8          5  \n",
       "..  ...         ...           ...        ...  \n",
       "95   en           0             1          1  \n",
       "96   en           0             7          5  \n",
       "97   en           0             1          1  \n",
       "98   en           0             1          1  \n",
       "99   en           0             0          1  \n",
       "\n",
       "[100 rows x 7 columns]"
      ]
     },
     "execution_count": 6,
     "metadata": {},
     "output_type": "execute_result"
    }
   ],
   "source": [
    "from src.data.twitter_scraper_standalone import *\n",
    "import pandas as pd\n",
    "pd.set_option('display.max_colwidth', None)\n",
    "_ = transform_to_dataframe('../data/raw/data_1687865107.pkl')\n",
    "_.head(100)"
   ]
  },
  {
   "cell_type": "markdown",
   "id": "ab66109c",
   "metadata": {},
   "source": [
    "---"
   ]
  }
 ],
 "metadata": {
  "kernelspec": {
   "display_name": "Python 3 (ipykernel)",
   "language": "python",
   "name": "python3"
  },
  "language_info": {
   "codemirror_mode": {
    "name": "ipython",
    "version": 3
   },
   "file_extension": ".py",
   "mimetype": "text/x-python",
   "name": "python",
   "nbconvert_exporter": "python",
   "pygments_lexer": "ipython3",
   "version": "3.11.3"
  }
 },
 "nbformat": 4,
 "nbformat_minor": 5
}
