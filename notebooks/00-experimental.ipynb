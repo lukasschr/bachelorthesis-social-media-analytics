{
 "cells": [
  {
   "cell_type": "markdown",
   "id": "85080f53",
   "metadata": {},
   "source": [
    "# Notebook Experimental"
   ]
  },
  {
   "cell_type": "markdown",
   "id": "dca41280",
   "metadata": {},
   "source": [
    "Dieses Notebook kann dazu verwendet werden, außerhalb des durch die anderen Notebooks vorgegebenen Prozesses Code zu schreiben und zu testen - ohne dabei direkten Einfluss auf den Prozess zu nehmen. Typische Anwendungsbeispiele finden Sie unten aufgelistet."
   ]
  },
  {
   "cell_type": "code",
   "execution_count": 1,
   "id": "ed453f00",
   "metadata": {},
   "outputs": [],
   "source": [
    "%load_ext autoreload\n",
    "%autoreload 2"
   ]
  },
  {
   "cell_type": "markdown",
   "id": "a14c7f57",
   "metadata": {},
   "source": [
    "---"
   ]
  },
  {
   "cell_type": "markdown",
   "id": "f870e613",
   "metadata": {},
   "source": [
    "#### Anzeigen des Intermediate Datensatzes"
   ]
  },
  {
   "cell_type": "code",
   "execution_count": 2,
   "id": "ed38939f",
   "metadata": {},
   "outputs": [
    {
     "data": {
      "text/html": [
       "<div>\n",
       "<style scoped>\n",
       "    .dataframe tbody tr th:only-of-type {\n",
       "        vertical-align: middle;\n",
       "    }\n",
       "\n",
       "    .dataframe tbody tr th {\n",
       "        vertical-align: top;\n",
       "    }\n",
       "\n",
       "    .dataframe thead th {\n",
       "        text-align: right;\n",
       "    }\n",
       "</style>\n",
       "<table border=\"1\" class=\"dataframe\">\n",
       "  <thead>\n",
       "    <tr style=\"text-align: right;\">\n",
       "      <th></th>\n",
       "      <th>url</th>\n",
       "      <th>date</th>\n",
       "      <th>rawContent</th>\n",
       "    </tr>\n",
       "  </thead>\n",
       "  <tbody>\n",
       "    <tr>\n",
       "      <th>0</th>\n",
       "      <td>https://twitter.com/_Bob_S/status/164159110508...</td>\n",
       "      <td>2023-03-30 23:59:00</td>\n",
       "      <td>Govt IT security isnt 'a nice thing to do': it...</td>\n",
       "    </tr>\n",
       "    <tr>\n",
       "      <th>1</th>\n",
       "      <td>https://twitter.com/WYSIWYGVentures/status/164...</td>\n",
       "      <td>2023-03-30 23:59:00</td>\n",
       "      <td>ISC West 2023: Cyberattackers Are Targeting Ph...</td>\n",
       "    </tr>\n",
       "    <tr>\n",
       "      <th>2</th>\n",
       "      <td>https://twitter.com/HackerAran7/status/1641591...</td>\n",
       "      <td>2023-03-30 23:59:00</td>\n",
       "      <td>What’s the hack. #stem #science #stemeducation...</td>\n",
       "    </tr>\n",
       "    <tr>\n",
       "      <th>3</th>\n",
       "      <td>https://twitter.com/bytefeedai/status/16415909...</td>\n",
       "      <td>2023-03-30 23:59:00</td>\n",
       "      <td>BuzzFeed Is Using AI To Write SEO-Bait Travel ...</td>\n",
       "    </tr>\n",
       "  </tbody>\n",
       "</table>\n",
       "</div>"
      ],
      "text/plain": [
       "                                                 url                date  \\\n",
       "0  https://twitter.com/_Bob_S/status/164159110508... 2023-03-30 23:59:00   \n",
       "1  https://twitter.com/WYSIWYGVentures/status/164... 2023-03-30 23:59:00   \n",
       "2  https://twitter.com/HackerAran7/status/1641591... 2023-03-30 23:59:00   \n",
       "3  https://twitter.com/bytefeedai/status/16415909... 2023-03-30 23:59:00   \n",
       "\n",
       "                                          rawContent  \n",
       "0  Govt IT security isnt 'a nice thing to do': it...  \n",
       "1  ISC West 2023: Cyberattackers Are Targeting Ph...  \n",
       "2  What’s the hack. #stem #science #stemeducation...  \n",
       "3  BuzzFeed Is Using AI To Write SEO-Bait Travel ...  "
      ]
     },
     "execution_count": 2,
     "metadata": {},
     "output_type": "execute_result"
    }
   ],
   "source": [
    "import pandas as pd\n",
    "\n",
    "df = pd.read_feather('../data/intermediate/twitter_tweets_intermediate.feather')\n",
    "df.head(4)"
   ]
  },
  {
   "cell_type": "markdown",
   "id": "75d9d3d6",
   "metadata": {},
   "source": [
    "#### Generierung der list_parameter_combinations.pkl\n",
    "\n",
    "Die Erstellung dieser Datei ist notwenig, um das Hyperparameter Tuning headless durchführen zu können"
   ]
  },
  {
   "cell_type": "code",
   "execution_count": 3,
   "id": "027a53f0",
   "metadata": {},
   "outputs": [
    {
     "data": {
      "text/plain": [
       "[3, 4, 5, 6, 7, 8, 9, 10]"
      ]
     },
     "execution_count": 3,
     "metadata": {},
     "output_type": "execute_result"
    }
   ],
   "source": [
    "# %%script false\n",
    "from src import utils\n",
    "import itertools\n",
    "\n",
    "num_topics = [i for i in range(4, 42)]\n",
    "alpha = ['symmetric', 'asymmetric'] + [round(i*0.1, 1) for i in range(1, 10)]\n",
    "eta = ['symmetric', 'auto'] + [round(i*0.1, 1) for i in range(1, 10)]\n",
    "passes = [i for i in range(3, 11)]\n",
    "\n",
    "combinations = list(itertools.product(num_topics, alpha, eta, passes))\n",
    "combinations_dict = [{'num_topics': item[0], 'alpha': item[1], 'eta': item[2], 'passes': item[3]} for item in combinations]\n",
    "utils.safe_as_pkl(combinations_dict, '../data/modeling/list_parameter_combinations.pkl')"
   ]
  },
  {
   "cell_type": "markdown",
   "id": "ab66109c",
   "metadata": {},
   "source": [
    "---"
   ]
  }
 ],
 "metadata": {
  "kernelspec": {
   "display_name": "Python 3 (ipykernel)",
   "language": "python",
   "name": "python3"
  },
  "language_info": {
   "codemirror_mode": {
    "name": "ipython",
    "version": 3
   },
   "file_extension": ".py",
   "mimetype": "text/x-python",
   "name": "python",
   "nbconvert_exporter": "python",
   "pygments_lexer": "ipython3",
   "version": "3.11.3"
  }
 },
 "nbformat": 4,
 "nbformat_minor": 5
}
