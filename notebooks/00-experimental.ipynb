{
 "cells": [
  {
   "cell_type": "code",
   "execution_count": 2,
   "id": "ed453f00",
   "metadata": {},
   "outputs": [],
   "source": [
    "%load_ext autoreload\n",
    "%autoreload 2"
   ]
  },
  {
   "cell_type": "markdown",
   "id": "a14c7f57",
   "metadata": {},
   "source": [
    "---"
   ]
  },
  {
   "cell_type": "code",
   "execution_count": 3,
   "id": "fd47bbd4",
   "metadata": {},
   "outputs": [
    {
     "data": {
      "text/html": [
       "<div>\n",
       "<style scoped>\n",
       "    .dataframe tbody tr th:only-of-type {\n",
       "        vertical-align: middle;\n",
       "    }\n",
       "\n",
       "    .dataframe tbody tr th {\n",
       "        vertical-align: top;\n",
       "    }\n",
       "\n",
       "    .dataframe thead th {\n",
       "        text-align: right;\n",
       "    }\n",
       "</style>\n",
       "<table border=\"1\" class=\"dataframe\">\n",
       "  <thead>\n",
       "    <tr style=\"text-align: right;\">\n",
       "      <th></th>\n",
       "      <th>url</th>\n",
       "      <th>date</th>\n",
       "      <th>rawContent</th>\n",
       "    </tr>\n",
       "  </thead>\n",
       "  <tbody>\n",
       "    <tr>\n",
       "      <th>0</th>\n",
       "      <td>https://twitter.com/YueDongCS/status/164159107...</td>\n",
       "      <td>2023-03-30 23:59:46</td>\n",
       "      <td>[condolence, sad, nlp, ai, community, lose, br...</td>\n",
       "    </tr>\n",
       "    <tr>\n",
       "      <th>1</th>\n",
       "      <td>https://twitter.com/Mlearning_ai/status/164159...</td>\n",
       "      <td>2023-03-30 23:59:43</td>\n",
       "      <td>[hiring, top, job, future, fueled, generative,...</td>\n",
       "    </tr>\n",
       "    <tr>\n",
       "      <th>2</th>\n",
       "      <td>https://twitter.com/HackerAran7/status/1641591...</td>\n",
       "      <td>2023-03-30 23:59:43</td>\n",
       "      <td>[hack, stem, science, stemeducation, education...</td>\n",
       "    </tr>\n",
       "    <tr>\n",
       "      <th>3</th>\n",
       "      <td>https://twitter.com/Stemble_/status/1641590942...</td>\n",
       "      <td>2023-03-30 23:59:14</td>\n",
       "      <td>[mark, calendar, apple, enthusiast, june, 5, a...</td>\n",
       "    </tr>\n",
       "  </tbody>\n",
       "</table>\n",
       "</div>"
      ],
      "text/plain": [
       "                                                 url                date   \n",
       "0  https://twitter.com/YueDongCS/status/164159107... 2023-03-30 23:59:46  \\\n",
       "1  https://twitter.com/Mlearning_ai/status/164159... 2023-03-30 23:59:43   \n",
       "2  https://twitter.com/HackerAran7/status/1641591... 2023-03-30 23:59:43   \n",
       "3  https://twitter.com/Stemble_/status/1641590942... 2023-03-30 23:59:14   \n",
       "\n",
       "                                          rawContent  \n",
       "0  [condolence, sad, nlp, ai, community, lose, br...  \n",
       "1  [hiring, top, job, future, fueled, generative,...  \n",
       "2  [hack, stem, science, stemeducation, education...  \n",
       "3  [mark, calendar, apple, enthusiast, june, 5, a...  "
      ]
     },
     "execution_count": 3,
     "metadata": {},
     "output_type": "execute_result"
    }
   ],
   "source": [
    "import pandas as pd\n",
    "\n",
    "df = pd.read_feather('../data/processed/twitter_tweets_processed.feather')\n",
    "df.head(4)"
   ]
  },
  {
   "cell_type": "markdown",
   "id": "8151f542",
   "metadata": {},
   "source": [
    "---"
   ]
  }
 ],
 "metadata": {
  "kernelspec": {
   "display_name": "Python 3 (ipykernel)",
   "language": "python",
   "name": "python3"
  },
  "language_info": {
   "codemirror_mode": {
    "name": "ipython",
    "version": 3
   },
   "file_extension": ".py",
   "mimetype": "text/x-python",
   "name": "python",
   "nbconvert_exporter": "python",
   "pygments_lexer": "ipython3",
   "version": "3.11.3"
  }
 },
 "nbformat": 4,
 "nbformat_minor": 5
}
