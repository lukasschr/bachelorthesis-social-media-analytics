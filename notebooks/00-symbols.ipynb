{
 "cells": [
  {
   "cell_type": "markdown",
   "id": "d1036d69",
   "metadata": {},
   "source": [
    "# Symbols"
   ]
  },
  {
   "cell_type": "markdown",
   "id": "4400b7cd",
   "metadata": {},
   "source": [
    "Das Projekt umfasst eine umfangreiche Codebasis. Um die Lesbarkeit und eine klare Orientierung in den Notebooks sicherzustellen, werden im Folgenden Symbole eingeführt, die als Hilfsmittel dienen sollen."
   ]
  },
  {
   "cell_type": "markdown",
   "id": "864cd2e5",
   "metadata": {},
   "source": [
    "#### Rechenzeit\n",
    "\n",
    "Im Rahmen der Notebooks werden teilweise rechenintensive Aufgaben durchgeführt. Die Ausführungsdauer dieser Aufgaben hängt in der Regel von der Rechenleistung des verwendeten Computers ab. Dennoch kann eine grobe Schätzung der Dauer wie folgt vorgenommen werden:"
   ]
  },
  {
   "cell_type": "markdown",
   "id": "7b081180",
   "metadata": {},
   "source": [
    "<font size=\"4\">☕</font>: 5min - 20min"
   ]
  },
  {
   "cell_type": "markdown",
   "id": "39d06432",
   "metadata": {},
   "source": [
    "<font size=\"4\">🎬</font>: 30min - 3h"
   ]
  },
  {
   "cell_type": "markdown",
   "id": "38be09c2",
   "metadata": {},
   "source": [
    "<font size=\"4\">🌒</font>: >> 12h"
   ]
  },
  {
   "cell_type": "markdown",
   "id": "044d5673",
   "metadata": {},
   "source": [
    "#### Weitere"
   ]
  },
  {
   "cell_type": "markdown",
   "id": "a8812a3a",
   "metadata": {},
   "source": [
    "<font size=\"4\">🧩</font>: Zusammenfassender Codeblock. Führt die notwendigen Schritte auf einmal durch. Alternativ ist eine manuelle Durchführung der einzelnen Schritte unter dem Codeblock angegeben."
   ]
  },
  {
   "cell_type": "markdown",
   "id": "dd3c4655",
   "metadata": {},
   "source": [
    "<font size=\"4\">⭕️</font>: Es wird empfohlen, die Ausführung dieser Codeblöcke aufgrund ihrer sehr langen Laufzeit zu vermeiden. Die Ergebnisse des Codes wurden zuvor bereits in externen Dateien gesichert. In nachfolgenden Codeblöcken werden die Ergebnisse aus den Dateien geladen. "
   ]
  }
 ],
 "metadata": {
  "kernelspec": {
   "display_name": "Python 3 (ipykernel)",
   "language": "python",
   "name": "python3"
  },
  "language_info": {
   "codemirror_mode": {
    "name": "ipython",
    "version": 3
   },
   "file_extension": ".py",
   "mimetype": "text/x-python",
   "name": "python",
   "nbconvert_exporter": "python",
   "pygments_lexer": "ipython3",
   "version": "3.11.3"
  }
 },
 "nbformat": 4,
 "nbformat_minor": 5
}
