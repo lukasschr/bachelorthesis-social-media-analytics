{
 "cells": [
  {
   "cell_type": "markdown",
   "id": "dda820c9",
   "metadata": {},
   "source": [
    "# Data Collection"
   ]
  },
  {
   "cell_type": "markdown",
   "id": "aab97055",
   "metadata": {},
   "source": [
    "Um später aussagekräftige Modelle erstellen zu können, müssen im ersten Schritt die dafür notwendigen Rohdaten gesammelt und ein Datensatz erstellt werden. Dazu werden Tweets von der Plattform Twitter gesammelt und in einer Liste gespeichert."
   ]
  },
  {
   "cell_type": "markdown",
   "id": "f3278d37",
   "metadata": {},
   "source": [
    "#### 1. Daten sammeln\n",
    "\n",
    "Um ausschließlich relevante und die Branche betreffende Tweets zu sammeln werden dem Web-Scraper folgende Suchparameter übergeben:\n",
    "- hashtags: #technology, #tech, #innovation\n",
    "- language: en\n",
    "- period: until:2023-03-31 since:2022-10-01\n",
    "- limit: 1_000_000"
   ]
  },
  {
   "cell_type": "code",
   "execution_count": 1,
   "id": "4c688965",
   "metadata": {},
   "outputs": [
    {
     "name": "stdout",
     "output_type": "stream",
     "text": [
      "Couldn't find program: 'false'\n"
     ]
    }
   ],
   "source": [
    "%%script false\n",
    "from src.data.nitter_scraper_standalone_v2 import *\n",
    "from datetime import datetime\n",
    "\n",
    "# set search parameters\n",
    "query = '%28%23technology+OR+%23tech+OR+%23innovation%29+lang%3Aen&e-nativeretweets=on'\n",
    "since = datetime(2022, 10, 1)\n",
    "until = datetime(2023, 3, 31)\n",
    "limit = 1_000_000\n",
    "\n",
    "\n",
    "# collect twitter posts\n",
    "scrape(q=query, since=since, until=until, limit=limit)"
   ]
  },
  {
   "cell_type": "markdown",
   "id": "2d2cbfb7",
   "metadata": {},
   "source": [
    "#### 2. Datensatz erstellen\n",
    "\n",
    "Nachdem die Twitter-Beiträge gesammelt wurden, werden diese in ein Dataframe transformiert."
   ]
  },
  {
   "cell_type": "code",
   "execution_count": 2,
   "id": "a4034879",
   "metadata": {},
   "outputs": [],
   "source": [
    "from src.data.nitter_scraper_standalone_v2 import Tweet, TweetScraper\n",
    "import pandas as pd\n",
    "\n",
    "# load tweet objects\n",
    "list_of_tweets = TweetScraper.load_collected_tweets(path='../data/raw/twitter_tweets_raw.pkl')\n",
    "\n",
    "# transform into a dataframe\n",
    "dict_of_tweets =  [{'url': tweet.url, 'date': tweet.date, 'rawContent': tweet.rawContent} for tweet in list_of_tweets]\n",
    "df = pd.DataFrame(dict_of_tweets)\n",
    "\n",
    "# save raw dataframe\n",
    "df.to_feather('../data/raw/twitter_tweets_raw.feather')"
   ]
  },
  {
   "cell_type": "markdown",
   "id": "23559b4e",
   "metadata": {},
   "source": [
    "#### 3. Datensatz anzeigen"
   ]
  },
  {
   "cell_type": "code",
   "execution_count": 3,
   "id": "ed493886",
   "metadata": {},
   "outputs": [
    {
     "data": {
      "text/html": [
       "<div>\n",
       "<style scoped>\n",
       "    .dataframe tbody tr th:only-of-type {\n",
       "        vertical-align: middle;\n",
       "    }\n",
       "\n",
       "    .dataframe tbody tr th {\n",
       "        vertical-align: top;\n",
       "    }\n",
       "\n",
       "    .dataframe thead th {\n",
       "        text-align: right;\n",
       "    }\n",
       "</style>\n",
       "<table border=\"1\" class=\"dataframe\">\n",
       "  <thead>\n",
       "    <tr style=\"text-align: right;\">\n",
       "      <th></th>\n",
       "      <th>url</th>\n",
       "      <th>date</th>\n",
       "      <th>rawContent</th>\n",
       "    </tr>\n",
       "  </thead>\n",
       "  <tbody>\n",
       "    <tr>\n",
       "      <th>0</th>\n",
       "      <td>https://twitter.com/_Bob_S/status/1641591105082003457#m</td>\n",
       "      <td>Mar 30, 2023 · 11:59 PM UTC</td>\n",
       "      <td>Govt IT security isnt 'a nice thing to do': it is a mandate. USERS should NOT BE INSTALLING any app/prgm on govt owned hardware. Period.\\nNot a NEW CONCEPT. From 2014:\\ncongress.gov/bill/113th-cong…\\nIT configures hardware. THAT is how it should stay. #technology</td>\n",
       "    </tr>\n",
       "    <tr>\n",
       "      <th>1</th>\n",
       "      <td>https://twitter.com/WYSIWYGVentures/status/1641591100027568129#m</td>\n",
       "      <td>Mar 30, 2023 · 11:59 PM UTC</td>\n",
       "      <td>ISC West 2023: Cyberattackers Are Targeting Physical Assets ift.tt/37S5PWf #Technology #Business #SMB #SmallBusiness</td>\n",
       "    </tr>\n",
       "    <tr>\n",
       "      <th>2</th>\n",
       "      <td>https://twitter.com/HackerAran7/status/1641591062329438209#m</td>\n",
       "      <td>Mar 30, 2023 · 11:59 PM UTC</td>\n",
       "      <td>What’s the hack. #stem #science #stemeducation #education #engineering #steam #technology #womeninstem #coding #robotics #tech #learning #edtech #math #research #stemforkids #chemistry #biology #kids #programming #school #womeninscience #scientist #stemgirls #physics #innovation</td>\n",
       "    </tr>\n",
       "    <tr>\n",
       "      <th>3</th>\n",
       "      <td>https://twitter.com/bytefeedai/status/1641590978053128194#m</td>\n",
       "      <td>Mar 30, 2023 · 11:59 PM UTC</td>\n",
       "      <td>BuzzFeed Is Using AI To Write SEO-Bait Travel Guides - bytefeed.ai/the-verge/buzzfe…\\n#Technology #The Verge</td>\n",
       "    </tr>\n",
       "    <tr>\n",
       "      <th>4</th>\n",
       "      <td>https://twitter.com/bytefeedai/status/1641590971786997761#m</td>\n",
       "      <td>Mar 30, 2023 · 11:59 PM UTC</td>\n",
       "      <td>Tech Leaders Sign Open Letter Calling for Pause on AI Development - bytefeed.ai/rolling-stone/te…\\n#Technology #Rolling Stone</td>\n",
       "    </tr>\n",
       "    <tr>\n",
       "      <th>5</th>\n",
       "      <td>https://twitter.com/bytefeedai/status/1641590971094691841#m</td>\n",
       "      <td>Mar 30, 2023 · 11:59 PM UTC</td>\n",
       "      <td>The View' Host Warns 'Everyone Should Be Scared' Of Artificial Intelligence - bytefeed.ai/fox-news/the-vie…\\n#Technology #Fox News</td>\n",
       "    </tr>\n",
       "  </tbody>\n",
       "</table>\n",
       "</div>"
      ],
      "text/plain": [
       "                                                                url  \\\n",
       "0           https://twitter.com/_Bob_S/status/1641591105082003457#m   \n",
       "1  https://twitter.com/WYSIWYGVentures/status/1641591100027568129#m   \n",
       "2      https://twitter.com/HackerAran7/status/1641591062329438209#m   \n",
       "3       https://twitter.com/bytefeedai/status/1641590978053128194#m   \n",
       "4       https://twitter.com/bytefeedai/status/1641590971786997761#m   \n",
       "5       https://twitter.com/bytefeedai/status/1641590971094691841#m   \n",
       "\n",
       "                          date  \\\n",
       "0  Mar 30, 2023 · 11:59 PM UTC   \n",
       "1  Mar 30, 2023 · 11:59 PM UTC   \n",
       "2  Mar 30, 2023 · 11:59 PM UTC   \n",
       "3  Mar 30, 2023 · 11:59 PM UTC   \n",
       "4  Mar 30, 2023 · 11:59 PM UTC   \n",
       "5  Mar 30, 2023 · 11:59 PM UTC   \n",
       "\n",
       "                                                                                                                                                                                                                                                                                rawContent  \n",
       "0                  Govt IT security isnt 'a nice thing to do': it is a mandate. USERS should NOT BE INSTALLING any app/prgm on govt owned hardware. Period.\\nNot a NEW CONCEPT. From 2014:\\ncongress.gov/bill/113th-cong…\\nIT configures hardware. THAT is how it should stay. #technology  \n",
       "1                                                                                                                                                                     ISC West 2023: Cyberattackers Are Targeting Physical Assets ift.tt/37S5PWf #Technology #Business #SMB #SmallBusiness  \n",
       "2  What’s the hack. #stem #science #stemeducation #education #engineering #steam #technology #womeninstem #coding #robotics #tech #learning #edtech #math #research #stemforkids #chemistry #biology #kids #programming #school #womeninscience #scientist #stemgirls #physics #innovation  \n",
       "3                                                                                                                                                                             BuzzFeed Is Using AI To Write SEO-Bait Travel Guides - bytefeed.ai/the-verge/buzzfe…\\n#Technology #The Verge  \n",
       "4                                                                                                                                                            Tech Leaders Sign Open Letter Calling for Pause on AI Development - bytefeed.ai/rolling-stone/te…\\n#Technology #Rolling Stone  \n",
       "5                                                                                                                                                       The View' Host Warns 'Everyone Should Be Scared' Of Artificial Intelligence - bytefeed.ai/fox-news/the-vie…\\n#Technology #Fox News  "
      ]
     },
     "execution_count": 3,
     "metadata": {},
     "output_type": "execute_result"
    }
   ],
   "source": [
    "# set the maximum width of the columns to unlimited\n",
    "pd.set_option('display.max_colwidth', None)\n",
    "\n",
    "df.head(6)"
   ]
  },
  {
   "cell_type": "markdown",
   "id": "7871a3ba",
   "metadata": {},
   "source": [
    "---"
   ]
  }
 ],
 "metadata": {
  "kernelspec": {
   "display_name": "Python 3 (ipykernel)",
   "language": "python",
   "name": "python3"
  },
  "language_info": {
   "codemirror_mode": {
    "name": "ipython",
    "version": 3
   },
   "file_extension": ".py",
   "mimetype": "text/x-python",
   "name": "python",
   "nbconvert_exporter": "python",
   "pygments_lexer": "ipython3",
   "version": "3.11.3"
  }
 },
 "nbformat": 4,
 "nbformat_minor": 5
}
