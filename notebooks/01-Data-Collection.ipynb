{
 "cells": [
  {
   "cell_type": "markdown",
   "id": "dda820c9",
   "metadata": {},
   "source": [
    "# Data Collection"
   ]
  },
  {
   "cell_type": "markdown",
   "id": "aab97055",
   "metadata": {},
   "source": [
    "Um später aussagekräftige Modelle erstellen zu können, müssen im ersten Schritt die dafür notwendigen Rohdaten gesammelt und ein Datensatz erstellt werden. Dazu werden Tweets von der Plattform Twitter gesammelt und in einer Liste gespeichert."
   ]
  },
  {
   "cell_type": "markdown",
   "id": "f3278d37",
   "metadata": {},
   "source": [
    "#### 1. Daten sammeln\n",
    "\n",
    "Um ausschließlich relevante und die Branche betreffende Tweets zu sammeln werden dem Web-Scraper folgende Suchparameter übergeben:\n",
    "- hashtags: #technology, #tech, #innovation\n",
    "- language: en\n",
    "- period: since:2018-04-01 until:2023-04-01\n",
    "- limit: 1_000_000"
   ]
  },
  {
   "cell_type": "code",
   "execution_count": 1,
   "id": "4c688965",
   "metadata": {},
   "outputs": [],
   "source": [
    "# Hinweis: Der Web-Scraper kann nicht in einem Jupyter-Notebook ausgeführt werden.\n",
    "# Starten Sie das Skript nitter_scraper_standalone_v2.py daher über ein Command-line interface."
   ]
  },
  {
   "cell_type": "markdown",
   "id": "2d2cbfb7",
   "metadata": {},
   "source": [
    "#### 2. Datensatz erstellen\n",
    "\n",
    "Nachdem die Twitter-Beiträge gesammelt wurden, werden diese in ein Dataframe transformiert."
   ]
  },
  {
   "cell_type": "code",
   "execution_count": 2,
   "id": "a4034879",
   "metadata": {},
   "outputs": [],
   "source": [
    "from src.data.twitter_scraper_standalone import *\n",
    "import pandas as pd\n",
    "\n",
    "# transform\n",
    "df = transform_to_dataframe('../data/raw/data_1687865107.pkl')\n",
    "\n",
    "# save raw dataframe\n",
    "df.to_feather('../data/raw/twitter_tweets_raw.feather')"
   ]
  },
  {
   "cell_type": "markdown",
   "id": "23559b4e",
   "metadata": {},
   "source": [
    "#### 3. Datensatz anzeigen"
   ]
  },
  {
   "cell_type": "code",
   "execution_count": 3,
   "id": "ed493886",
   "metadata": {},
   "outputs": [
    {
     "data": {
      "text/html": [
       "<div>\n",
       "<style scoped>\n",
       "    .dataframe tbody tr th:only-of-type {\n",
       "        vertical-align: middle;\n",
       "    }\n",
       "\n",
       "    .dataframe tbody tr th {\n",
       "        vertical-align: top;\n",
       "    }\n",
       "\n",
       "    .dataframe thead th {\n",
       "        text-align: right;\n",
       "    }\n",
       "</style>\n",
       "<table border=\"1\" class=\"dataframe\">\n",
       "  <thead>\n",
       "    <tr style=\"text-align: right;\">\n",
       "      <th></th>\n",
       "      <th>url</th>\n",
       "      <th>date</th>\n",
       "      <th>rawContent</th>\n",
       "      <th>lang</th>\n",
       "      <th>replyCount</th>\n",
       "      <th>retweetCount</th>\n",
       "      <th>likeCount</th>\n",
       "    </tr>\n",
       "  </thead>\n",
       "  <tbody>\n",
       "    <tr>\n",
       "      <th>0</th>\n",
       "      <td>https://twitter.com/AgileScrumGuide/status/980595436082769920</td>\n",
       "      <td>2018-04-01 23:59:05+00:00</td>\n",
       "      <td>[ video ]\\nAgile Has a Long and Colorful Heritage \\nvimeo.com/259429846 \\n\\n#agile #scrum #business #IT #tech #technology #startup #innovators #visionary #visionaries #entrepreneur #history #agilehistory #heritage #agileheritage #timeline #success #minisode #vimeo #video https://t.co/CfME8acq5T</td>\n",
       "      <td>en</td>\n",
       "      <td>0</td>\n",
       "      <td>2</td>\n",
       "      <td>8</td>\n",
       "    </tr>\n",
       "    <tr>\n",
       "      <th>1</th>\n",
       "      <td>https://twitter.com/CioAmaro/status/980595423055314946</td>\n",
       "      <td>2018-04-01 23:59:02+00:00</td>\n",
       "      <td>Evidently there are no enough cyber security staff. Why?\\n#Infosec #CyberSecurity #CyberAttack #Hack #Breach #Threat #DDoS #CyberWarfare  #Malware #Ransomware #Cyberwarning #Phishing #SpyWare\\n#Tech #Technology #Health #HealthTech https://t.co/xneGxntbwT</td>\n",
       "      <td>en</td>\n",
       "      <td>1</td>\n",
       "      <td>3</td>\n",
       "      <td>4</td>\n",
       "    </tr>\n",
       "    <tr>\n",
       "      <th>2</th>\n",
       "      <td>https://twitter.com/MelissaOnline/status/980595389131821056</td>\n",
       "      <td>2018-04-01 23:58:54+00:00</td>\n",
       "      <td>#Women in NYC #Tech: Sybil Steele of Temme Media alleywat.ch/2J9jQ7U via @alleywatch https://t.co/ENMnKi1yJk</td>\n",
       "      <td>en</td>\n",
       "      <td>0</td>\n",
       "      <td>0</td>\n",
       "      <td>3</td>\n",
       "    </tr>\n",
       "    <tr>\n",
       "      <th>3</th>\n",
       "      <td>https://twitter.com/DigitalKeith/status/980595211163328512</td>\n",
       "      <td>2018-04-01 23:58:11+00:00</td>\n",
       "      <td>A great #Startup bit.ly/2rO25WL #Innovation #GrowthHacking #bigdata #Disruption #makeyourownlane #defstar5 #IoT #Mpgvip by #homejobsbass https://t.co/Usylj2L2Ln</td>\n",
       "      <td>en</td>\n",
       "      <td>0</td>\n",
       "      <td>1</td>\n",
       "      <td>2</td>\n",
       "    </tr>\n",
       "    <tr>\n",
       "      <th>4</th>\n",
       "      <td>https://twitter.com/Ananna16/status/980595108759269376</td>\n",
       "      <td>2018-04-01 23:57:47+00:00</td>\n",
       "      <td>#Discount | 26 Best #MachineLearning and #DeepLearning Courses for #DataScientists \\n\\ngoo.gl/eN8ffC\\n\\n#AI #ArtificialIntelligence #DataScientist #IoT #IIoT #BigData #tech #Python #DataScience #Analytics #BigDataAnalytics #Business #tutorial #eLearning @ahmedjr_16</td>\n",
       "      <td>en</td>\n",
       "      <td>0</td>\n",
       "      <td>8</td>\n",
       "      <td>5</td>\n",
       "    </tr>\n",
       "    <tr>\n",
       "      <th>5</th>\n",
       "      <td>https://twitter.com/KenOConnorData/status/980595071627051008</td>\n",
       "      <td>2018-04-01 23:57:38+00:00</td>\n",
       "      <td>The future is about #trustedcomputing \\n#AI\\n#MachineLearning\\n#digitaltransformation \\n#DataSupplyChainTransformation\\n#Innovation\\n#OpenConsultingGroup\\n#DataValueMap.com lnkd.in/g6CuTAN</td>\n",
       "      <td>en</td>\n",
       "      <td>0</td>\n",
       "      <td>3</td>\n",
       "      <td>3</td>\n",
       "    </tr>\n",
       "  </tbody>\n",
       "</table>\n",
       "</div>"
      ],
      "text/plain": [
       "                                                             url  \\\n",
       "0  https://twitter.com/AgileScrumGuide/status/980595436082769920   \n",
       "1         https://twitter.com/CioAmaro/status/980595423055314946   \n",
       "2    https://twitter.com/MelissaOnline/status/980595389131821056   \n",
       "3     https://twitter.com/DigitalKeith/status/980595211163328512   \n",
       "4         https://twitter.com/Ananna16/status/980595108759269376   \n",
       "5   https://twitter.com/KenOConnorData/status/980595071627051008   \n",
       "\n",
       "                       date  \\\n",
       "0 2018-04-01 23:59:05+00:00   \n",
       "1 2018-04-01 23:59:02+00:00   \n",
       "2 2018-04-01 23:58:54+00:00   \n",
       "3 2018-04-01 23:58:11+00:00   \n",
       "4 2018-04-01 23:57:47+00:00   \n",
       "5 2018-04-01 23:57:38+00:00   \n",
       "\n",
       "                                                                                                                                                                                                                                                                                                rawContent  \\\n",
       "0  [ video ]\\nAgile Has a Long and Colorful Heritage \\nvimeo.com/259429846 \\n\\n#agile #scrum #business #IT #tech #technology #startup #innovators #visionary #visionaries #entrepreneur #history #agilehistory #heritage #agileheritage #timeline #success #minisode #vimeo #video https://t.co/CfME8acq5T   \n",
       "1                                           Evidently there are no enough cyber security staff. Why?\\n#Infosec #CyberSecurity #CyberAttack #Hack #Breach #Threat #DDoS #CyberWarfare  #Malware #Ransomware #Cyberwarning #Phishing #SpyWare\\n#Tech #Technology #Health #HealthTech https://t.co/xneGxntbwT   \n",
       "2                                                                                                                                                                                             #Women in NYC #Tech: Sybil Steele of Temme Media alleywat.ch/2J9jQ7U via @alleywatch https://t.co/ENMnKi1yJk   \n",
       "3                                                                                                                                         A great #Startup bit.ly/2rO25WL #Innovation #GrowthHacking #bigdata #Disruption #makeyourownlane #defstar5 #IoT #Mpgvip by #homejobsbass https://t.co/Usylj2L2Ln   \n",
       "4                                #Discount | 26 Best #MachineLearning and #DeepLearning Courses for #DataScientists \\n\\ngoo.gl/eN8ffC\\n\\n#AI #ArtificialIntelligence #DataScientist #IoT #IIoT #BigData #tech #Python #DataScience #Analytics #BigDataAnalytics #Business #tutorial #eLearning @ahmedjr_16   \n",
       "5                                                                                                             The future is about #trustedcomputing \\n#AI\\n#MachineLearning\\n#digitaltransformation \\n#DataSupplyChainTransformation\\n#Innovation\\n#OpenConsultingGroup\\n#DataValueMap.com lnkd.in/g6CuTAN   \n",
       "\n",
       "  lang  replyCount  retweetCount  likeCount  \n",
       "0   en           0             2          8  \n",
       "1   en           1             3          4  \n",
       "2   en           0             0          3  \n",
       "3   en           0             1          2  \n",
       "4   en           0             8          5  \n",
       "5   en           0             3          3  "
      ]
     },
     "execution_count": 3,
     "metadata": {},
     "output_type": "execute_result"
    }
   ],
   "source": [
    "# set the maximum width of the columns to unlimited\n",
    "pd.set_option('display.max_colwidth', None)\n",
    "\n",
    "df.head(6)"
   ]
  },
  {
   "cell_type": "markdown",
   "id": "7871a3ba",
   "metadata": {},
   "source": [
    "---"
   ]
  }
 ],
 "metadata": {
  "kernelspec": {
   "display_name": "Python 3 (ipykernel)",
   "language": "python",
   "name": "python3"
  },
  "language_info": {
   "codemirror_mode": {
    "name": "ipython",
    "version": 3
   },
   "file_extension": ".py",
   "mimetype": "text/x-python",
   "name": "python",
   "nbconvert_exporter": "python",
   "pygments_lexer": "ipython3",
   "version": "3.11.3"
  }
 },
 "nbformat": 4,
 "nbformat_minor": 5
}
