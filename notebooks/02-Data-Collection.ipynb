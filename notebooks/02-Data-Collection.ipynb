{
 "cells": [
  {
   "cell_type": "markdown",
   "id": "dda820c9",
   "metadata": {},
   "source": [
    "# Data Collection"
   ]
  },
  {
   "cell_type": "markdown",
   "id": "aab97055",
   "metadata": {},
   "source": [
    "Um später aussagekräftige Modelle erstellen zu können, müssen im ersten Schritt die dafür notwendigen Rohdaten gesammelt und ein Datensatz erstellt werden. Dazu werden Tweets von der Plattform Twitter gesammelt und in einer Liste gespeichert."
   ]
  },
  {
   "cell_type": "markdown",
   "id": "f3278d37",
   "metadata": {},
   "source": [
    "#### 1. Daten sammeln ⭕️🌒\n",
    "\n",
    "Um ausschließlich relevante und die Branche betreffende Tweets zu sammeln werden dem Web-Scraper folgende Suchparameter übergeben:\n",
    "- hashtags: #technology, #tech, #innovation\n",
    "- language: en\n",
    "- period: since:2018-04-01 until:2023-04-01\n",
    "- limit: 1_000_000"
   ]
  },
  {
   "cell_type": "code",
   "execution_count": null,
   "id": "4c688965",
   "metadata": {},
   "outputs": [],
   "source": [
    "# Hinweis: Der Web-Scraper kann nicht in einem Jupyter-Notebook ausgeführt werden.\n",
    "# Um den Web-Scraper auszuführen muss das Skript nitter_scraper_standalone_v2.py über ein Command-line Interface aufgerufen werden."
   ]
  },
  {
   "cell_type": "markdown",
   "id": "2d2cbfb7",
   "metadata": {},
   "source": [
    "#### 2. Datensatz erstellen\n",
    "\n",
    "Nachdem die Twitter-Beiträge gesammelt wurden, werden diese in ein Dataframe transformiert."
   ]
  },
  {
   "cell_type": "code",
   "execution_count": null,
   "id": "a4034879",
   "metadata": {},
   "outputs": [],
   "source": [
    "from src.data.twitter_scraper_standalone import *\n",
    "import pandas as pd\n",
    "\n",
    "# transform\n",
    "df = transform_to_dataframe('../data/raw/data_1687865107.pkl')\n",
    "\n",
    "# save raw dataframe\n",
    "df.to_feather('../data/raw/twitter_tweets_raw.feather')"
   ]
  },
  {
   "cell_type": "markdown",
   "id": "23559b4e",
   "metadata": {},
   "source": [
    "#### 3. Datensatz anzeigen"
   ]
  },
  {
   "cell_type": "code",
   "execution_count": null,
   "id": "ed493886",
   "metadata": {},
   "outputs": [],
   "source": [
    "# set the maximum width of the columns to unlimited\n",
    "pd.set_option('display.max_colwidth', None)\n",
    "\n",
    "df.head(6)"
   ]
  },
  {
   "cell_type": "markdown",
   "id": "7871a3ba",
   "metadata": {},
   "source": [
    "---"
   ]
  }
 ],
 "metadata": {
  "kernelspec": {
   "display_name": "Python 3 (ipykernel)",
   "language": "python",
   "name": "python3"
  },
  "language_info": {
   "codemirror_mode": {
    "name": "ipython",
    "version": 3
   },
   "file_extension": ".py",
   "mimetype": "text/x-python",
   "name": "python",
   "nbconvert_exporter": "python",
   "pygments_lexer": "ipython3",
   "version": "3.11.3"
  }
 },
 "nbformat": 4,
 "nbformat_minor": 5
}
