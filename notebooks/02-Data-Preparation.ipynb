{
 "cells": [
  {
   "cell_type": "markdown",
   "id": "01c0d714",
   "metadata": {},
   "source": [
    "# Data Preparation"
   ]
  },
  {
   "cell_type": "markdown",
   "id": "182b5f0f",
   "metadata": {},
   "source": [
    "Inhaltsverzeichnis"
   ]
  },
  {
   "cell_type": "code",
   "execution_count": 1,
   "id": "a4a674bc",
   "metadata": {},
   "outputs": [],
   "source": [
    "%load_ext autoreload\n",
    "%autoreload 2"
   ]
  },
  {
   "cell_type": "markdown",
   "id": "bc9543bb",
   "metadata": {},
   "source": [
    "## Data Cleaning"
   ]
  },
  {
   "cell_type": "markdown",
   "id": "0ba3f08e",
   "metadata": {},
   "source": [
    "In der Data Exploration konnte festgestellt werden, dass der Datensatz nicht vollständig unseren Anforderungen entspricht und einige Fehler aufweist. Im Data-Cleaning Prozess soll daher der Datensatz angepasst und verbessert werden. Identifizierte Fehler sollen behoben werden. Ziel ist es, den Datensatz für die Preprocessing Pipeline vorzubereiten. "
   ]
  },
  {
   "cell_type": "markdown",
   "id": "dbe354cd",
   "metadata": {},
   "source": [
    "#### 0. Datensatz laden"
   ]
  },
  {
   "cell_type": "code",
   "execution_count": 2,
   "id": "61f087d4",
   "metadata": {},
   "outputs": [],
   "source": [
    "from src import utils\n",
    "import pandas as pd\n",
    "\n",
    "# load dataframe\n",
    "df = utils.load_pkl(path='../data/raw/twitter_tweets_raw.pkl')[0]"
   ]
  },
  {
   "cell_type": "markdown",
   "id": "48585905",
   "metadata": {},
   "source": [
    "#### 1. Duplikate löschen "
   ]
  },
  {
   "cell_type": "code",
   "execution_count": 3,
   "id": "12bb96da",
   "metadata": {},
   "outputs": [],
   "source": [
    "df.drop_duplicates(subset=['rawContent'], inplace=True)\n",
    "\n",
    "# check for success\n",
    "if df['rawContent'].duplicated().any():\n",
    "    print(f\"{len(df[df['rawContent'].duplicated()])} duplicates found.\")"
   ]
  },
  {
   "cell_type": "markdown",
   "id": "721db4ed",
   "metadata": {},
   "source": [
    "#### 2. Nicht-englische Beiträge löschen "
   ]
  },
  {
   "cell_type": "code",
   "execution_count": 4,
   "id": "f84ba184",
   "metadata": {},
   "outputs": [],
   "source": [
    "non_english_posts = df.query('lang != \"en\"')\n",
    "df.drop(index=non_english_posts.index, inplace=True)\n",
    "\n",
    "# check for success\n",
    "if not df['lang'].eq('en').all():\n",
    "    print(df.query('lang != \"en\"'))"
   ]
  },
  {
   "cell_type": "markdown",
   "id": "fdb393a3",
   "metadata": {},
   "source": [
    "#### 3. Date aktualisieren"
   ]
  },
  {
   "cell_type": "code",
   "execution_count": 5,
   "id": "4c32969b",
   "metadata": {},
   "outputs": [],
   "source": [
    "df['date'] = pd.to_datetime(df['date']).dt.tz_localize(None)"
   ]
  },
  {
   "cell_type": "markdown",
   "id": "93c3ab5a",
   "metadata": {},
   "source": [
    "#### 4. Irrelevante Daten löschen"
   ]
  },
  {
   "cell_type": "code",
   "execution_count": 6,
   "id": "e84e83d3",
   "metadata": {},
   "outputs": [],
   "source": [
    "df.drop(columns=['renderedContent', 'id', 'user', 'replyCount', 'retweetCount', 'likeCount', 'quoteCount', \n",
    "                 'conversationId', 'lang', 'source', 'sourceUrl', 'sourceLabel', 'links', 'media', \n",
    "                 'retweetedTweet', 'quotedTweet', 'inReplyToTweetId', 'inReplyToUser', 'mentionedUsers', \n",
    "                 'coordinates', 'place', 'hashtags', 'cashtags', 'card', 'viewCount', 'vibe'], inplace=True)"
   ]
  },
  {
   "cell_type": "markdown",
   "id": "cc1e439d",
   "metadata": {},
   "source": [
    "#### 5. Gesäuberten Datensatz speichern"
   ]
  },
  {
   "cell_type": "code",
   "execution_count": 7,
   "id": "da93d084",
   "metadata": {},
   "outputs": [],
   "source": [
    "df.set_index('url', inplace=True)\n",
    "df.reset_index(inplace=True)\n",
    "df.to_feather('../data/intermediate/twitter_tweets_intermediate.feather')"
   ]
  },
  {
   "cell_type": "markdown",
   "id": "5a7d54a9",
   "metadata": {},
   "source": [
    "---"
   ]
  },
  {
   "cell_type": "markdown",
   "id": "1562e931",
   "metadata": {},
   "source": [
    "## Preprocessing Pipeline"
   ]
  },
  {
   "cell_type": "markdown",
   "id": "f56b4b3e",
   "metadata": {},
   "source": [
    "Nachdem der Datensatz gesäubert wurde, werden die Textdaten in eine sogenannte Preprocessing Pipeline gegeben. Die Preprocessing Pipeline ist entscheidend für das spätere Ergebnis des Modelings. Diese stellt sicher, dass der Text für das Modell geeignet ist. Die Pipeline, die für die Anforderungen des Projekts speziell entworfen wurde, kann wie folgt visualisiert werden:"
   ]
  },
  {
   "cell_type": "markdown",
   "id": "c537c985",
   "metadata": {},
   "source": [
    "TODO: ABBILDUNG VON DER PREPROCESSING PIPELINE"
   ]
  },
  {
   "cell_type": "markdown",
   "id": "948f3fb2",
   "metadata": {},
   "source": [
    "#### 0. Packages & Datensatz laden "
   ]
  },
  {
   "cell_type": "code",
   "execution_count": 8,
   "id": "f82f047c",
   "metadata": {},
   "outputs": [
    {
     "name": "stderr",
     "output_type": "stream",
     "text": [
      "[nltk_data] Downloading package punkt to\n",
      "[nltk_data]     C:\\Users\\lukas\\AppData\\Roaming\\nltk_data...\n",
      "[nltk_data]   Package punkt is already up-to-date!\n",
      "[nltk_data] Downloading package stopwords to\n",
      "[nltk_data]     C:\\Users\\lukas\\AppData\\Roaming\\nltk_data...\n",
      "[nltk_data]   Package stopwords is already up-to-date!\n",
      "[nltk_data] Downloading package wordnet to\n",
      "[nltk_data]     C:\\Users\\lukas\\AppData\\Roaming\\nltk_data...\n",
      "[nltk_data]   Package wordnet is already up-to-date!\n"
     ]
    },
    {
     "data": {
      "text/html": [
       "<div>\n",
       "<style scoped>\n",
       "    .dataframe tbody tr th:only-of-type {\n",
       "        vertical-align: middle;\n",
       "    }\n",
       "\n",
       "    .dataframe tbody tr th {\n",
       "        vertical-align: top;\n",
       "    }\n",
       "\n",
       "    .dataframe thead th {\n",
       "        text-align: right;\n",
       "    }\n",
       "</style>\n",
       "<table border=\"1\" class=\"dataframe\">\n",
       "  <thead>\n",
       "    <tr style=\"text-align: right;\">\n",
       "      <th></th>\n",
       "      <th>url</th>\n",
       "      <th>date</th>\n",
       "      <th>rawContent</th>\n",
       "    </tr>\n",
       "  </thead>\n",
       "  <tbody>\n",
       "    <tr>\n",
       "      <th>0</th>\n",
       "      <td>https://twitter.com/YueDongCS/status/164159107...</td>\n",
       "      <td>2023-03-30 23:59:46</td>\n",
       "      <td>My condolences and sad that the #NLP and #AI c...</td>\n",
       "    </tr>\n",
       "    <tr>\n",
       "      <th>1</th>\n",
       "      <td>https://twitter.com/Mlearning_ai/status/164159...</td>\n",
       "      <td>2023-03-30 23:59:43</td>\n",
       "      <td>Hiring Now: The Top Jobs of the Future Fueled ...</td>\n",
       "    </tr>\n",
       "    <tr>\n",
       "      <th>2</th>\n",
       "      <td>https://twitter.com/HackerAran7/status/1641591...</td>\n",
       "      <td>2023-03-30 23:59:43</td>\n",
       "      <td>What’s the hack. #stem #science #stemeducation...</td>\n",
       "    </tr>\n",
       "    <tr>\n",
       "      <th>3</th>\n",
       "      <td>https://twitter.com/Stemble_/status/1641590942...</td>\n",
       "      <td>2023-03-30 23:59:14</td>\n",
       "      <td>🚀 Mark your calendars, Apple enthusiasts! 🗓️\\n...</td>\n",
       "    </tr>\n",
       "  </tbody>\n",
       "</table>\n",
       "</div>"
      ],
      "text/plain": [
       "                                                 url                date   \n",
       "0  https://twitter.com/YueDongCS/status/164159107... 2023-03-30 23:59:46  \\\n",
       "1  https://twitter.com/Mlearning_ai/status/164159... 2023-03-30 23:59:43   \n",
       "2  https://twitter.com/HackerAran7/status/1641591... 2023-03-30 23:59:43   \n",
       "3  https://twitter.com/Stemble_/status/1641590942... 2023-03-30 23:59:14   \n",
       "\n",
       "                                          rawContent  \n",
       "0  My condolences and sad that the #NLP and #AI c...  \n",
       "1  Hiring Now: The Top Jobs of the Future Fueled ...  \n",
       "2  What’s the hack. #stem #science #stemeducation...  \n",
       "3  🚀 Mark your calendars, Apple enthusiasts! 🗓️\\n...  "
      ]
     },
     "execution_count": 8,
     "metadata": {},
     "output_type": "execute_result"
    }
   ],
   "source": [
    "import pandas as pd\n",
    "import contractions\n",
    "import nltk\n",
    "import string\n",
    "import emoji\n",
    "import re\n",
    "\n",
    "from nltk.corpus import stopwords\n",
    "from nltk.stem import WordNetLemmatizer\n",
    "\n",
    "# download required nltk packages\n",
    "nltk.download('punkt')\n",
    "nltk.download('stopwords')\n",
    "nltk.download('wordnet')\n",
    "\n",
    "# load dataframe\n",
    "df = pd.read_feather('../data/intermediate/twitter_tweets_intermediate.feather')\n",
    "df.head(4)"
   ]
  },
  {
   "cell_type": "markdown",
   "id": "9d4937c7",
   "metadata": {},
   "source": [
    "#### 1.  URLs entfernen"
   ]
  },
  {
   "cell_type": "code",
   "execution_count": 9,
   "id": "edf78af1",
   "metadata": {},
   "outputs": [],
   "source": [
    "def remove_urls(text):\n",
    "    return re.sub(r'http\\S+', '', text)\n",
    "\n",
    "df['_nonurl'] = df['rawContent'].apply(remove_urls)"
   ]
  },
  {
   "cell_type": "markdown",
   "id": "54c919f9",
   "metadata": {},
   "source": [
    "#### 2. Kontraktionen auflösen"
   ]
  },
  {
   "cell_type": "code",
   "execution_count": 10,
   "id": "72986f90",
   "metadata": {},
   "outputs": [],
   "source": [
    "def fix_contractions(text):\n",
    "    return contractions.fix(text)\n",
    "\n",
    "df['_nonurl_fixedcontractions'] = df['_nonurl'].apply(fix_contractions)\n",
    "del df['_nonurl']"
   ]
  },
  {
   "cell_type": "markdown",
   "id": "2a08c14d",
   "metadata": {},
   "source": [
    "#### 3. Tokenization durchführen"
   ]
  },
  {
   "cell_type": "code",
   "execution_count": 11,
   "id": "101c8250",
   "metadata": {
    "scrolled": true
   },
   "outputs": [],
   "source": [
    "# define tokenizer function\n",
    "tokenize = nltk.tokenize.word_tokenize\n",
    "\n",
    "df['_nonurl_fixedcontractions_tokenized'] = df['_nonurl_fixedcontractions'].apply(tokenize)\n",
    "del df['_nonurl_fixedcontractions']"
   ]
  },
  {
   "cell_type": "markdown",
   "id": "ce8b8b58",
   "metadata": {},
   "source": [
    "#### 4. Tokens in Kleinbuchstaben umwandeln"
   ]
  },
  {
   "cell_type": "code",
   "execution_count": 12,
   "id": "678c564d",
   "metadata": {},
   "outputs": [],
   "source": [
    "def lowercase(tokens):\n",
    "    return [token.lower() for token in tokens]\n",
    "\n",
    "df['_nonurl_fixedcontractions_tokenized_lowercase'] = df['_nonurl_fixedcontractions_tokenized'].apply(lowercase)\n",
    "del df['_nonurl_fixedcontractions_tokenized']"
   ]
  },
  {
   "cell_type": "markdown",
   "id": "2acb8f50",
   "metadata": {},
   "source": [
    "#### 5. Entfernung von Satzzeichen"
   ]
  },
  {
   "cell_type": "code",
   "execution_count": 13,
   "id": "e904f8ce",
   "metadata": {},
   "outputs": [],
   "source": [
    "# adding more characters to the punctuation list\n",
    "punct = string.punctuation + \"’\" + \"``\" +\"`\" + \"''\" +\"'\"\n",
    "\n",
    "def remove_punct(tokens):\n",
    "    return [token for token in tokens if token not in punct]\n",
    "\n",
    "df['_nonurl_fixedcontractions_tokenized_lowercase_nonpunctation'] = df['_nonurl_fixedcontractions_tokenized_lowercase'].apply(remove_punct)\n",
    "del df['_nonurl_fixedcontractions_tokenized_lowercase']"
   ]
  },
  {
   "cell_type": "markdown",
   "id": "c4c66dc0",
   "metadata": {},
   "source": [
    "#### 6.  Stopwörter entfernen"
   ]
  },
  {
   "cell_type": "code",
   "execution_count": 14,
   "id": "b2cdb450",
   "metadata": {},
   "outputs": [],
   "source": [
    "# define list of stopwords\n",
    "stop_words = stopwords.words('english')\n",
    "\n",
    "def remove_stopwords(tokens):\n",
    "    return [token for token in tokens if token not in stop_words]\n",
    "\n",
    "df['_nonurl_fixedcontractions_tokenized_lowercase_nonpunctation_nonstopwords'] = df['_nonurl_fixedcontractions_tokenized_lowercase_nonpunctation'].apply(remove_stopwords)\n",
    "del df['_nonurl_fixedcontractions_tokenized_lowercase_nonpunctation']"
   ]
  },
  {
   "cell_type": "markdown",
   "id": "f0c0bbf3",
   "metadata": {},
   "source": [
    "#### 7.  Emojis entfernen"
   ]
  },
  {
   "cell_type": "code",
   "execution_count": 15,
   "id": "0f21c182",
   "metadata": {},
   "outputs": [],
   "source": [
    "def remove_emoji(tokens):\n",
    "    return [token for token in tokens if not any(char in emoji.EMOJI_DATA for char in token)]\n",
    "    \n",
    "df['_nonurl_fixedcontractions_tokenized_lowercase_nonpunctation_nonstopwords_nonemoji'] = df['_nonurl_fixedcontractions_tokenized_lowercase_nonpunctation_nonstopwords'].apply(remove_emoji)\n",
    "del df['_nonurl_fixedcontractions_tokenized_lowercase_nonpunctation_nonstopwords']"
   ]
  },
  {
   "cell_type": "markdown",
   "id": "66082400",
   "metadata": {},
   "source": [
    "#### 8. Lemmatisierung durchführen"
   ]
  },
  {
   "cell_type": "code",
   "execution_count": 16,
   "id": "4aad7019",
   "metadata": {},
   "outputs": [],
   "source": [
    "# initialization of the lemmatizer\n",
    "lemmatizer = WordNetLemmatizer()\n",
    "\n",
    "def lemmatize(tokens):\n",
    "    return [lemmatizer.lemmatize(token) for token in tokens]\n",
    "\n",
    "df['preprocessed_text'] = df['_nonurl_fixedcontractions_tokenized_lowercase_nonpunctation_nonstopwords_nonemoji'].apply(lemmatize)\n",
    "del df['_nonurl_fixedcontractions_tokenized_lowercase_nonpunctation_nonstopwords_nonemoji']"
   ]
  },
  {
   "cell_type": "markdown",
   "id": "12981cc3",
   "metadata": {},
   "source": [
    "#### 9. Preprocessed Datensatz speichern"
   ]
  },
  {
   "cell_type": "code",
   "execution_count": 17,
   "id": "f77a4e9e",
   "metadata": {},
   "outputs": [],
   "source": [
    "df.to_feather('../data/processed/twitter_tweets_processed.feather')\n",
    "df.to_csv('../data/processed/twitter_tweets_processed.csv', index=False)"
   ]
  },
  {
   "cell_type": "markdown",
   "id": "90561981",
   "metadata": {},
   "source": [
    "---"
   ]
  }
 ],
 "metadata": {
  "kernelspec": {
   "display_name": "Python 3 (ipykernel)",
   "language": "python",
   "name": "python3"
  },
  "language_info": {
   "codemirror_mode": {
    "name": "ipython",
    "version": 3
   },
   "file_extension": ".py",
   "mimetype": "text/x-python",
   "name": "python",
   "nbconvert_exporter": "python",
   "pygments_lexer": "ipython3",
   "version": "3.11.3"
  }
 },
 "nbformat": 4,
 "nbformat_minor": 5
}
