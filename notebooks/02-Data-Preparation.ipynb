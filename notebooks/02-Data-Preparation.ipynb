{
 "cells": [
  {
   "cell_type": "markdown",
   "id": "01c0d714",
   "metadata": {},
   "source": [
    "# Data Preparation"
   ]
  },
  {
   "cell_type": "markdown",
   "id": "182b5f0f",
   "metadata": {},
   "source": [
    "Inhaltsverzeichnis"
   ]
  },
  {
   "cell_type": "code",
   "execution_count": 1,
   "id": "a4a674bc",
   "metadata": {},
   "outputs": [],
   "source": [
    "%load_ext autoreload\n",
    "%autoreload 2"
   ]
  },
  {
   "cell_type": "code",
   "execution_count": 10,
   "id": "02d24aec",
   "metadata": {},
   "outputs": [],
   "source": [
    "# 0. Lade Datensatz\n",
    "\n",
    "from src import utils\n",
    "import pandas as pd\n",
    "\n",
    "# load collected posts\n",
    "list_of_tweets = utils.load_pkl(path='../data/raw/twitter_tweets_raw.pkl')[0]\n",
    "\n",
    "# transform posts into a dataframe\n",
    "df = pd.DataFrame(list_of_tweets)"
   ]
  },
  {
   "cell_type": "markdown",
   "id": "bc9543bb",
   "metadata": {},
   "source": [
    "## Data Cleaning"
   ]
  },
  {
   "cell_type": "code",
   "execution_count": 11,
   "id": "12bb96da",
   "metadata": {},
   "outputs": [],
   "source": [
    "# 1. Lösche alle doppelten Texte\n",
    "df.drop_duplicates(subset=['rawContent'], inplace=True)\n",
    "\n",
    "# Prüfe auf Erfolg\n",
    "if df['rawContent'].duplicated().any():\n",
    "    print(f\"{len(df[df['rawContent'].duplicated()])} Duplikate gefunden.\")"
   ]
  },
  {
   "cell_type": "code",
   "execution_count": 12,
   "id": "f84ba184",
   "metadata": {},
   "outputs": [],
   "source": [
    "# 2. Lösche alle nicht-englischen Beiträge\n",
    "\n",
    "non_english_posts = df.query('lang != \"en\"')\n",
    "df.drop(index=non_english_posts.index, inplace=True)\n",
    "\n",
    "# Prüfe auf Erfolg\n",
    "if not df['lang'].eq('en').all():\n",
    "    print(df.query('lang != \"en\"'))"
   ]
  },
  {
   "cell_type": "code",
   "execution_count": 13,
   "id": "4c32969b",
   "metadata": {},
   "outputs": [],
   "source": [
    "# 3. Date aktualisieren\n",
    "\n",
    "df['date'] = pd.to_datetime(df['date']).dt.tz_localize(None)"
   ]
  },
  {
   "cell_type": "code",
   "execution_count": 14,
   "id": "e84e83d3",
   "metadata": {},
   "outputs": [],
   "source": [
    "# 4. Lösche irrelevante \n",
    "df.drop(columns=['renderedContent', 'id', 'user', 'replyCount', 'retweetCount', 'likeCount', 'quoteCount', \n",
    "                 'conversationId', 'lang', 'source', 'sourceUrl', 'sourceLabel', 'links', 'media', \n",
    "                 'retweetedTweet', 'quotedTweet', 'inReplyToTweetId', 'inReplyToUser', 'mentionedUsers', \n",
    "                 'coordinates', 'place', 'hashtags', 'cashtags', 'card', 'viewCount', 'vibe'], inplace=True)\n",
    "\n",
    "df = df[['date', 'rawContent', 'url']]"
   ]
  },
  {
   "cell_type": "code",
   "execution_count": 7,
   "id": "da93d084",
   "metadata": {},
   "outputs": [],
   "source": [
    "utils.safe_as_pkl(df, filename='twitter_tweets_intermediate', path='../data/intermediate')"
   ]
  },
  {
   "cell_type": "markdown",
   "id": "5a7d54a9",
   "metadata": {},
   "source": [
    "---"
   ]
  },
  {
   "cell_type": "markdown",
   "id": "1562e931",
   "metadata": {},
   "source": [
    "## Preprocessing Pipeline"
   ]
  },
  {
   "cell_type": "code",
   "execution_count": 2,
   "id": "5c2d94ba",
   "metadata": {
    "scrolled": true
   },
   "outputs": [
    {
     "data": {
      "text/html": [
       "<div>\n",
       "<style scoped>\n",
       "    .dataframe tbody tr th:only-of-type {\n",
       "        vertical-align: middle;\n",
       "    }\n",
       "\n",
       "    .dataframe tbody tr th {\n",
       "        vertical-align: top;\n",
       "    }\n",
       "\n",
       "    .dataframe thead th {\n",
       "        text-align: right;\n",
       "    }\n",
       "</style>\n",
       "<table border=\"1\" class=\"dataframe\">\n",
       "  <thead>\n",
       "    <tr style=\"text-align: right;\">\n",
       "      <th></th>\n",
       "      <th>date</th>\n",
       "      <th>rawContent</th>\n",
       "      <th>url</th>\n",
       "    </tr>\n",
       "  </thead>\n",
       "  <tbody>\n",
       "    <tr>\n",
       "      <th>0</th>\n",
       "      <td>2023-03-30 23:59:46</td>\n",
       "      <td>My condolences and sad that the #NLP and #AI c...</td>\n",
       "      <td>https://twitter.com/YueDongCS/status/164159107...</td>\n",
       "    </tr>\n",
       "    <tr>\n",
       "      <th>1</th>\n",
       "      <td>2023-03-30 23:59:43</td>\n",
       "      <td>Hiring Now: The Top Jobs of the Future Fueled ...</td>\n",
       "      <td>https://twitter.com/Mlearning_ai/status/164159...</td>\n",
       "    </tr>\n",
       "    <tr>\n",
       "      <th>2</th>\n",
       "      <td>2023-03-30 23:59:43</td>\n",
       "      <td>What’s the hack. #stem #science #stemeducation...</td>\n",
       "      <td>https://twitter.com/HackerAran7/status/1641591...</td>\n",
       "    </tr>\n",
       "    <tr>\n",
       "      <th>3</th>\n",
       "      <td>2023-03-30 23:59:14</td>\n",
       "      <td>🚀 Mark your calendars, Apple enthusiasts! 🗓️\\n...</td>\n",
       "      <td>https://twitter.com/Stemble_/status/1641590942...</td>\n",
       "    </tr>\n",
       "  </tbody>\n",
       "</table>\n",
       "</div>"
      ],
      "text/plain": [
       "                 date                                         rawContent   \n",
       "0 2023-03-30 23:59:46  My condolences and sad that the #NLP and #AI c...  \\\n",
       "1 2023-03-30 23:59:43  Hiring Now: The Top Jobs of the Future Fueled ...   \n",
       "2 2023-03-30 23:59:43  What’s the hack. #stem #science #stemeducation...   \n",
       "3 2023-03-30 23:59:14  🚀 Mark your calendars, Apple enthusiasts! 🗓️\\n...   \n",
       "\n",
       "                                                 url  \n",
       "0  https://twitter.com/YueDongCS/status/164159107...  \n",
       "1  https://twitter.com/Mlearning_ai/status/164159...  \n",
       "2  https://twitter.com/HackerAran7/status/1641591...  \n",
       "3  https://twitter.com/Stemble_/status/1641590942...  "
      ]
     },
     "execution_count": 2,
     "metadata": {},
     "output_type": "execute_result"
    }
   ],
   "source": [
    "from src import utils\n",
    "import pandas as pd\n",
    "\n",
    "# load collected posts\n",
    "list_of_tweets = utils.load_pkl(path='../data/intermediate/twitter_tweets_intermediate.pkl')[0]\n",
    "\n",
    "# transform posts into a dataframe\n",
    "df = pd.DataFrame(list_of_tweets)\n",
    "df.head(4)"
   ]
  },
  {
   "cell_type": "code",
   "execution_count": 3,
   "id": "edf78af1",
   "metadata": {},
   "outputs": [],
   "source": [
    "# Löschen von URLs\n",
    "\n",
    "import pandas as pd\n",
    "import re\n",
    "\n",
    "# Funktion zur Entfernung von URLs\n",
    "def remove_urls(text):\n",
    "    return re.sub(r'http\\S+', '', text)\n",
    "\n",
    "# URL-Entfernung auf Spalte 'text' anwenden\n",
    "df['rawContent'] = df['rawContent'].apply(remove_urls)"
   ]
  },
  {
   "cell_type": "code",
   "execution_count": 4,
   "id": "72986f90",
   "metadata": {},
   "outputs": [],
   "source": [
    "# Expand contractions (Contraction Mapping)\n",
    "\n",
    "import pandas as pd\n",
    "import contractions\n",
    "\n",
    "# Definiere die Funktion zum Fixieren von Kontraktionen\n",
    "def fix_contractions(text):\n",
    "    return contractions.fix(text)\n",
    "\n",
    "# Wende die Funktion auf die 'text'-Spalte an\n",
    "df['rawContent'] = df['rawContent'].apply(fix_contractions)"
   ]
  },
  {
   "cell_type": "code",
   "execution_count": 5,
   "id": "101c8250",
   "metadata": {
    "scrolled": true
   },
   "outputs": [
    {
     "name": "stderr",
     "output_type": "stream",
     "text": [
      "[nltk_data] Downloading package punkt to\n",
      "[nltk_data]     C:\\Users\\lukas\\AppData\\Roaming\\nltk_data...\n",
      "[nltk_data]   Package punkt is already up-to-date!\n"
     ]
    }
   ],
   "source": [
    "# Tokenization\n",
    "\n",
    "import pandas as pd\n",
    "import nltk\n",
    "\n",
    "# punkt tokenizer herunterladen\n",
    "nltk.download('punkt')\n",
    "\n",
    "# Definieren der Tokenizer-Funktion\n",
    "tokenize = nltk.tokenize.word_tokenize\n",
    "\n",
    "# Tokenisierung für jeden Tweet im Dataframe durchführen\n",
    "df['rawContent'] = df['rawContent'].apply(tokenize)"
   ]
  },
  {
   "cell_type": "code",
   "execution_count": 6,
   "id": "678c564d",
   "metadata": {},
   "outputs": [],
   "source": [
    "# Lowercase\n",
    "\n",
    "import pandas as pd\n",
    "\n",
    "# Funktion zur Umwandlung eines Tokens in Kleinbuchstaben\n",
    "def lowercase(tokens):\n",
    "    return [token.lower() for token in tokens]\n",
    "\n",
    "# Lowercase-Transformation auf Spalte 'tokens' anwenden\n",
    "df['rawContent'] = df['rawContent'].apply(lowercase)"
   ]
  },
  {
   "cell_type": "code",
   "execution_count": 7,
   "id": "e904f8ce",
   "metadata": {},
   "outputs": [],
   "source": [
    "# Punctation Removal\n",
    "\n",
    "import pandas as pd\n",
    "import string\n",
    "\n",
    "# Hinzufügen des Apostrophzeichen zur Liste der Satzzeichen\n",
    "punct = string.punctuation + \"’\" + \"``\" +\"`\" + \"''\" +\"'\"\n",
    "\n",
    "# Funktion zur Entfernung von Punctation\n",
    "def remove_punct(tokens):\n",
    "    return [token for token in tokens if token not in punct]\n",
    "\n",
    "# Punctation-Entfernung auf Spalte 'tokens' anwenden\n",
    "df['rawContent'] = df['rawContent'].apply(remove_punct)"
   ]
  },
  {
   "cell_type": "code",
   "execution_count": 8,
   "id": "b2cdb450",
   "metadata": {},
   "outputs": [
    {
     "name": "stderr",
     "output_type": "stream",
     "text": [
      "[nltk_data] Downloading package stopwords to\n",
      "[nltk_data]     C:\\Users\\lukas\\AppData\\Roaming\\nltk_data...\n",
      "[nltk_data]   Package stopwords is already up-to-date!\n"
     ]
    }
   ],
   "source": [
    "# Stopword Removal\n",
    "\n",
    "import pandas as pd\n",
    "import nltk\n",
    "from nltk.corpus import stopwords\n",
    "\n",
    "# Stopwords aus nltk herunterladen\n",
    "nltk.download('stopwords')\n",
    "\n",
    "# Liste mit Stopwords\n",
    "stop_words = stopwords.words('english')\n",
    "\n",
    "# Funktion zur Entfernung von Stopwords\n",
    "def remove_stopwords(tokens):\n",
    "    return [token for token in tokens if token not in stop_words]\n",
    "\n",
    "# Stopword-Entfernung auf Spalte 'tokens' anwenden\n",
    "df['rawContent'] = df['rawContent'].apply(remove_stopwords)"
   ]
  },
  {
   "cell_type": "code",
   "execution_count": 10,
   "id": "0f21c182",
   "metadata": {},
   "outputs": [],
   "source": [
    "# Emoji Removal\n",
    "import pandas as pd\n",
    "import emoji\n",
    "\n",
    "def remove_emoji(tokens):\n",
    "    return [token for token in tokens if not any(char in emoji.EMOJI_DATA for char in token)]\n",
    "    \n",
    "df['rawContent'] = df['rawContent'].apply(remove_emoji)"
   ]
  },
  {
   "cell_type": "code",
   "execution_count": 27,
   "id": "4aad7019",
   "metadata": {},
   "outputs": [
    {
     "name": "stderr",
     "output_type": "stream",
     "text": [
      "[nltk_data] Downloading package wordnet to\n",
      "[nltk_data]     C:\\Users\\lukas\\AppData\\Roaming\\nltk_data...\n",
      "[nltk_data]   Package wordnet is already up-to-date!\n"
     ]
    }
   ],
   "source": [
    "# Lemmatization\n",
    "\n",
    "import nltk\n",
    "from nltk.stem import WordNetLemmatizer\n",
    "\n",
    "nltk.download('wordnet')\n",
    "\n",
    "# Initialisierung des Lemmatizers\n",
    "lemmatizer = WordNetLemmatizer()\n",
    "\n",
    "def lemmatize(tokens):\n",
    "    return [lemmatizer.lemmatize(token) for token in tokens]\n",
    "\n",
    "df['rawContent'] = df['rawContent'].apply(lemmatize)"
   ]
  },
  {
   "cell_type": "code",
   "execution_count": 30,
   "id": "f77a4e9e",
   "metadata": {},
   "outputs": [
    {
     "data": {
      "text/html": [
       "<div>\n",
       "<style scoped>\n",
       "    .dataframe tbody tr th:only-of-type {\n",
       "        vertical-align: middle;\n",
       "    }\n",
       "\n",
       "    .dataframe tbody tr th {\n",
       "        vertical-align: top;\n",
       "    }\n",
       "\n",
       "    .dataframe thead th {\n",
       "        text-align: right;\n",
       "    }\n",
       "</style>\n",
       "<table border=\"1\" class=\"dataframe\">\n",
       "  <thead>\n",
       "    <tr style=\"text-align: right;\">\n",
       "      <th></th>\n",
       "      <th>date</th>\n",
       "      <th>rawContent</th>\n",
       "      <th>url</th>\n",
       "    </tr>\n",
       "  </thead>\n",
       "  <tbody>\n",
       "    <tr>\n",
       "      <th>0</th>\n",
       "      <td>2023-03-30 23:59:46</td>\n",
       "      <td>[condolence, sad, nlp, ai, community, lose, br...</td>\n",
       "      <td>https://twitter.com/YueDongCS/status/164159107...</td>\n",
       "    </tr>\n",
       "    <tr>\n",
       "      <th>1</th>\n",
       "      <td>2023-03-30 23:59:43</td>\n",
       "      <td>[hiring, top, job, future, fueled, generative,...</td>\n",
       "      <td>https://twitter.com/Mlearning_ai/status/164159...</td>\n",
       "    </tr>\n",
       "    <tr>\n",
       "      <th>2</th>\n",
       "      <td>2023-03-30 23:59:43</td>\n",
       "      <td>[hack, stem, science, stemeducation, education...</td>\n",
       "      <td>https://twitter.com/HackerAran7/status/1641591...</td>\n",
       "    </tr>\n",
       "    <tr>\n",
       "      <th>3</th>\n",
       "      <td>2023-03-30 23:59:14</td>\n",
       "      <td>[mark, calendar, apple, enthusiast, june, 5, a...</td>\n",
       "      <td>https://twitter.com/Stemble_/status/1641590942...</td>\n",
       "    </tr>\n",
       "  </tbody>\n",
       "</table>\n",
       "</div>"
      ],
      "text/plain": [
       "                 date                                         rawContent   \n",
       "0 2023-03-30 23:59:46  [condolence, sad, nlp, ai, community, lose, br...  \\\n",
       "1 2023-03-30 23:59:43  [hiring, top, job, future, fueled, generative,...   \n",
       "2 2023-03-30 23:59:43  [hack, stem, science, stemeducation, education...   \n",
       "3 2023-03-30 23:59:14  [mark, calendar, apple, enthusiast, june, 5, a...   \n",
       "\n",
       "                                                 url  \n",
       "0  https://twitter.com/YueDongCS/status/164159107...  \n",
       "1  https://twitter.com/Mlearning_ai/status/164159...  \n",
       "2  https://twitter.com/HackerAran7/status/1641591...  \n",
       "3  https://twitter.com/Stemble_/status/1641590942...  "
      ]
     },
     "execution_count": 30,
     "metadata": {},
     "output_type": "execute_result"
    }
   ],
   "source": [
    "df.head(4)"
   ]
  },
  {
   "cell_type": "markdown",
   "id": "90561981",
   "metadata": {},
   "source": [
    "---"
   ]
  }
 ],
 "metadata": {
  "kernelspec": {
   "display_name": "Python 3 (ipykernel)",
   "language": "python",
   "name": "python3"
  },
  "language_info": {
   "codemirror_mode": {
    "name": "ipython",
    "version": 3
   },
   "file_extension": ".py",
   "mimetype": "text/x-python",
   "name": "python",
   "nbconvert_exporter": "python",
   "pygments_lexer": "ipython3",
   "version": "3.11.3"
  }
 },
 "nbformat": 4,
 "nbformat_minor": 5
}
