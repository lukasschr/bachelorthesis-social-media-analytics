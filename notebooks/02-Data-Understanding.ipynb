{
 "cells": [
  {
   "cell_type": "markdown",
   "id": "db00a74f",
   "metadata": {},
   "source": [
    "# Data Understanding\n",
    "\n",
    "Nun gilt es den gesammelten Datensatz zu beschreiben und zu untersuchen. Die Untersuchung dient dem Zweck die Daten hinsichtlich ihrer Qualität bewerten zu können und Maßnahmen für das Data Cleaning zu beschließen."
   ]
  },
  {
   "cell_type": "markdown",
   "id": "17034689",
   "metadata": {},
   "source": [
    "#### 0. Lade Datensatz"
   ]
  },
  {
   "cell_type": "code",
   "execution_count": 5,
   "id": "581f7e1b",
   "metadata": {},
   "outputs": [],
   "source": [
    "import pandas as pd\n",
    "df = pd.read_feather('../data/raw/twitter_tweets_raw.feather')"
   ]
  },
  {
   "cell_type": "markdown",
   "id": "7690370a",
   "metadata": {},
   "source": [
    "#### 1. Überblick"
   ]
  },
  {
   "cell_type": "code",
   "execution_count": 6,
   "id": "36a21e5c",
   "metadata": {
    "scrolled": false
   },
   "outputs": [
    {
     "data": {
      "text/plain": [
       "url           object\n",
       "date          object\n",
       "rawContent    object\n",
       "dtype: object"
      ]
     },
     "execution_count": 6,
     "metadata": {},
     "output_type": "execute_result"
    }
   ],
   "source": [
    "df.dtypes"
   ]
  },
  {
   "cell_type": "markdown",
   "id": "178e3019",
   "metadata": {},
   "source": [
    "#### 2. Überprüfe Anforderungen an den Datensatz\n",
    "\n",
    "Um die Qualität der Daten zu bewerten, muss überprüft werden, ob die Daten den zuvor aufgestellen Anforderungen entsprechen. Nachfolgend werden daher folgende Untersuchungen vorgenommen:\n",
    "- Prüfe ob alle Beiträge im angegebenen Zeitraum erstellt wurden\n",
    "- Prüfe ob alle Beiträge Textdaten enthalten\n",
    "- Prüfe ob Duplikate existieren \n",
    "- Prüfe ob alle Beiträge in englischer Sprache sind"
   ]
  },
  {
   "cell_type": "code",
   "execution_count": 7,
   "id": "f53f17a5",
   "metadata": {},
   "outputs": [
    {
     "data": {
      "text/plain": [
       "True"
      ]
     },
     "execution_count": 7,
     "metadata": {},
     "output_type": "execute_result"
    }
   ],
   "source": [
    "# check whether all posts were created within the selected period\n",
    "# expected result: True\n",
    "import datetime\n",
    "\n",
    "_ = df.copy()\n",
    "_['date'] = _['date'].apply(lambda x: datetime.datetime.strptime(x, \"%b %d, %Y · %I:%M %p %Z\"))\n",
    "\n",
    "_.query('date < \"2022-10-01\" or date > \"2023-03-31\"').empty"
   ]
  },
  {
   "cell_type": "code",
   "execution_count": 8,
   "id": "67b059c6",
   "metadata": {},
   "outputs": [
    {
     "data": {
      "text/plain": [
       "False"
      ]
     },
     "execution_count": 8,
     "metadata": {},
     "output_type": "execute_result"
    }
   ],
   "source": [
    "# check if entries have no text\n",
    "# expected result: False\n",
    "\n",
    "df['rawContent'].isnull().any()"
   ]
  },
  {
   "cell_type": "code",
   "execution_count": 9,
   "id": "cfec7c12",
   "metadata": {},
   "outputs": [
    {
     "data": {
      "text/plain": [
       "True"
      ]
     },
     "execution_count": 9,
     "metadata": {},
     "output_type": "execute_result"
    }
   ],
   "source": [
    "# check for duplicates\n",
    "# expected result: False\n",
    "\n",
    "df['rawContent'].duplicated().any()"
   ]
  },
  {
   "cell_type": "markdown",
   "id": "830dc5c3",
   "metadata": {},
   "source": [
    "*Hinweis: Die nachfolgende Überprüfung kann einige Zeit in Anspruch nehmen!* <br>\n",
    "*Ergebnis: False*"
   ]
  },
  {
   "cell_type": "code",
   "execution_count": null,
   "id": "5e5756da",
   "metadata": {},
   "outputs": [],
   "source": [
    "# check if all texts are in English\n",
    "# expected result: True\n",
    "from langdetect import detect\n",
    "\n",
    "_ = df.copy()\n",
    "\n",
    "# define function to identify language of tweet\n",
    "def detect_language(text):\n",
    "    try:\n",
    "        lang = detect(text)\n",
    "    except:\n",
    "        lang = None\n",
    "    return lang\n",
    "\n",
    "_['lang'] = _['rawContent'].apply(detect_language)\n",
    "_['lang'].eq('en').all()"
   ]
  },
  {
   "cell_type": "markdown",
   "id": "9e20b3b4",
   "metadata": {},
   "source": [
    "---"
   ]
  }
 ],
 "metadata": {
  "kernelspec": {
   "display_name": "Python 3 (ipykernel)",
   "language": "python",
   "name": "python3"
  },
  "language_info": {
   "codemirror_mode": {
    "name": "ipython",
    "version": 3
   },
   "file_extension": ".py",
   "mimetype": "text/x-python",
   "name": "python",
   "nbconvert_exporter": "python",
   "pygments_lexer": "ipython3",
   "version": "3.11.3"
  }
 },
 "nbformat": 4,
 "nbformat_minor": 5
}
