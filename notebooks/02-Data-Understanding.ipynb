{
 "cells": [
  {
   "cell_type": "markdown",
   "id": "db00a74f",
   "metadata": {},
   "source": [
    "# Data Understanding\n",
    "\n",
    "Nun gilt es den gesammelten Datensatz zu beschreiben und zu untersuchen. Die Untersuchung dient dem Zweck die Daten hinsichtlich ihrer Qualität bewerten zu können und Maßnahmen für das Data Cleaning zu beschließen."
   ]
  },
  {
   "cell_type": "markdown",
   "id": "17034689",
   "metadata": {},
   "source": [
    "#### 0. Lade Datensatz"
   ]
  },
  {
   "cell_type": "code",
   "execution_count": 1,
   "id": "581f7e1b",
   "metadata": {},
   "outputs": [],
   "source": [
    "import pandas as pd\n",
    "df = pd.read_feather('../data/raw/twitter_tweets_raw.feather')"
   ]
  },
  {
   "cell_type": "markdown",
   "id": "7690370a",
   "metadata": {},
   "source": [
    "#### 1. Überblick"
   ]
  },
  {
   "cell_type": "code",
   "execution_count": 3,
   "id": "36a21e5c",
   "metadata": {
    "scrolled": false
   },
   "outputs": [
    {
     "data": {
      "text/plain": [
       "url                          object\n",
       "date            datetime64[ns, UTC]\n",
       "rawContent                   object\n",
       "lang                         object\n",
       "replyCount                    int64\n",
       "retweetCount                  int64\n",
       "likeCount                     int64\n",
       "dtype: object"
      ]
     },
     "execution_count": 3,
     "metadata": {},
     "output_type": "execute_result"
    }
   ],
   "source": [
    "df.dtypes"
   ]
  },
  {
   "cell_type": "markdown",
   "id": "178e3019",
   "metadata": {},
   "source": [
    "#### 2. Überprüfe Anforderungen an den Datensatz\n",
    "\n",
    "Um die Qualität der Daten zu bewerten, muss überprüft werden, ob die Daten den zuvor aufgestellen Anforderungen entsprechen. Nachfolgend werden daher folgende Untersuchungen vorgenommen:\n",
    "- Prüfe ob alle Beiträge im angegebenen Zeitraum erstellt wurden\n",
    "- Prüfe ob alle Beiträge Textdaten enthalten\n",
    "- Prüfe ob Duplikate existieren \n",
    "- Prüfe ob alle Beiträge in englischer Sprache sind"
   ]
  },
  {
   "cell_type": "code",
   "execution_count": 6,
   "id": "f53f17a5",
   "metadata": {},
   "outputs": [
    {
     "data": {
      "text/plain": [
       "True"
      ]
     },
     "execution_count": 6,
     "metadata": {},
     "output_type": "execute_result"
    }
   ],
   "source": [
    "# check whether all posts were created within the selected period\n",
    "# expected result: True\n",
    "import datetime\n",
    "\n",
    "_ = df.copy()\n",
    "_['date'] = pd.to_datetime(_.date).dt.tz_localize(None)\n",
    "\n",
    "_.query('date < \"2018-04-01\" or date > \"2023-04-01\"').empty"
   ]
  },
  {
   "cell_type": "code",
   "execution_count": 8,
   "id": "67b059c6",
   "metadata": {},
   "outputs": [
    {
     "data": {
      "text/plain": [
       "False"
      ]
     },
     "execution_count": 8,
     "metadata": {},
     "output_type": "execute_result"
    }
   ],
   "source": [
    "# check if entries have no text\n",
    "# expected result: False\n",
    "\n",
    "df['rawContent'].isnull().any()"
   ]
  },
  {
   "cell_type": "code",
   "execution_count": 11,
   "id": "cfec7c12",
   "metadata": {},
   "outputs": [
    {
     "data": {
      "text/plain": [
       "True"
      ]
     },
     "execution_count": 11,
     "metadata": {},
     "output_type": "execute_result"
    }
   ],
   "source": [
    "# check for duplicates\n",
    "# expected result: False\n",
    "\n",
    "df['rawContent'].duplicated().any()"
   ]
  },
  {
   "cell_type": "code",
   "execution_count": 12,
   "id": "5e5756da",
   "metadata": {},
   "outputs": [
    {
     "data": {
      "text/plain": [
       "False"
      ]
     },
     "execution_count": 12,
     "metadata": {},
     "output_type": "execute_result"
    }
   ],
   "source": [
    "# check if all texts are in English\n",
    "# expected result: True\n",
    "\n",
    "df['lang'].eq('en').all()"
   ]
  },
  {
   "cell_type": "markdown",
   "id": "9e20b3b4",
   "metadata": {},
   "source": [
    "---"
   ]
  }
 ],
 "metadata": {
  "kernelspec": {
   "display_name": "Python 3 (ipykernel)",
   "language": "python",
   "name": "python3"
  },
  "language_info": {
   "codemirror_mode": {
    "name": "ipython",
    "version": 3
   },
   "file_extension": ".py",
   "mimetype": "text/x-python",
   "name": "python",
   "nbconvert_exporter": "python",
   "pygments_lexer": "ipython3",
   "version": "3.11.3"
  }
 },
 "nbformat": 4,
 "nbformat_minor": 5
}
