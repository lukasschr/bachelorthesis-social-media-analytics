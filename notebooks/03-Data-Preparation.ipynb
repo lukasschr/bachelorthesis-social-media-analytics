{
 "cells": [
  {
   "cell_type": "markdown",
   "id": "01c0d714",
   "metadata": {},
   "source": [
    "# Data Preparation"
   ]
  },
  {
   "cell_type": "markdown",
   "id": "2af387cd",
   "metadata": {},
   "source": [
    "Die im Rahmen des Data Understanding gewonnenen Erkenntnisse über die Qualität der Daten werden nun gezielt eingesetzt, um eine Datenbereinigung und Vorverarbeitung für die Modellierung durchzuführen. Dadurch wird sichergestellt, dass die Daten qualitativ hochwertig und geeignet für den Einsatz in den Modellen sind. Dies ermöglicht eine robuste und aussagekräftige Analyse sowie eine zuverlässige Modellbildung."
   ]
  },
  {
   "cell_type": "markdown",
   "id": "182b5f0f",
   "metadata": {},
   "source": [
    "#### Inhalt\n",
    "\n",
    "- [Data Cleaning](#data_cleaning)\n",
    "- [Preprocessing Pipeline](#preprocessing_pipeline)"
   ]
  },
  {
   "cell_type": "markdown",
   "id": "136d1e1c",
   "metadata": {},
   "source": [
    "---"
   ]
  },
  {
   "cell_type": "markdown",
   "id": "bc9543bb",
   "metadata": {},
   "source": [
    "## Data Cleaning <a name=\"data_cleaning\"></a>"
   ]
  },
  {
   "cell_type": "markdown",
   "id": "0ba3f08e",
   "metadata": {},
   "source": [
    "Es wurde festgestellt, dass der vorliegende Datensatz nicht vollständig den vorgegebenen Anforderungen entspricht und Mängel in der Datenqualität aufweist. Um diese Mängel zu beheben und den Datensatz zu verbessern, wird nun der Data Cleaning Prozess durchgeführt. Das übergeordnete Ziel des Data Cleaning besteht darin, den Datensatz so zu bereinigen, dass er für die nachfolgende Preprocessing Pipeline optimal vorbereitet ist. "
   ]
  },
  {
   "cell_type": "markdown",
   "id": "61a428d5",
   "metadata": {},
   "source": [
    "#### 🧩 Data Cleaning "
   ]
  },
  {
   "cell_type": "code",
   "execution_count": 1,
   "id": "2d20c270",
   "metadata": {},
   "outputs": [
    {
     "name": "stderr",
     "output_type": "stream",
     "text": [
      "2023-06-28 09:44:59,835 - INFO - initialize pipeline and load raw dataframe...\n",
      "2023-06-28 09:45:01,727 - WARNING - starting data cleaning...\n",
      "2023-06-28 09:45:01,727 - INFO - formating date...\n",
      "2023-06-28 09:45:02,081 - WARNING - duplicate entries were found!\n",
      "2023-06-28 09:45:02,081 - INFO - clean _no_duplicates...\n",
      "2023-06-28 09:45:02,376 - WARNING - entries which are not in english were found!\n",
      "2023-06-28 09:45:02,376 - INFO - clean _all_texts_in_english...\n",
      "2023-06-28 09:45:02,679 - INFO - data cleaning completed successfully!\n"
     ]
    }
   ],
   "source": [
    "%%script false\n",
    "from src.features.data_cleaning import *\n",
    "\n",
    "# run data cleaning\n",
    "pipeline = CleaningPipeline(path='../data/raw/twitter_tweets_raw.feather')\n",
    "df = pipeline.run()\n",
    "\n",
    "# save cleaned data set\n",
    "df.to_feather('../data/intermediate/twitter_tweets_intermediate.feather')"
   ]
  },
  {
   "cell_type": "markdown",
   "id": "dbe354cd",
   "metadata": {},
   "source": [
    "#### 0. Datensatz laden"
   ]
  },
  {
   "cell_type": "code",
   "execution_count": 1,
   "id": "61f087d4",
   "metadata": {},
   "outputs": [],
   "source": [
    "import pandas as pd\n",
    "\n",
    "df = pd.read_feather('../data/raw/twitter_tweets_raw.feather')"
   ]
  },
  {
   "cell_type": "markdown",
   "id": "48585905",
   "metadata": {},
   "source": [
    "#### 1. Duplikate löschen "
   ]
  },
  {
   "cell_type": "code",
   "execution_count": 2,
   "id": "12bb96da",
   "metadata": {},
   "outputs": [],
   "source": [
    "df.drop_duplicates(subset=['rawContent'], inplace=True)\n",
    "\n",
    "# check for success\n",
    "if df['rawContent'].duplicated().any():\n",
    "    print(f\"{len(df[df['rawContent'].duplicated()])} duplicates found.\")"
   ]
  },
  {
   "cell_type": "markdown",
   "id": "721db4ed",
   "metadata": {},
   "source": [
    "#### 2. Nicht-englische Beiträge identifizieren & löschen "
   ]
  },
  {
   "cell_type": "code",
   "execution_count": 3,
   "id": "f84ba184",
   "metadata": {},
   "outputs": [
    {
     "name": "stderr",
     "output_type": "stream",
     "text": [
      "2023-06-30 11:53:01,368 - INFO - 1535 non-English tweets found! drop...\n"
     ]
    }
   ],
   "source": [
    "from src.utils import logger\n",
    "\n",
    "non_english_posts = df.query('lang != \"en\"')\n",
    "logger.info(f'{len(non_english_posts)} non-English tweets found! drop...')\n",
    "df.drop(index=non_english_posts.index, inplace=True)\n",
    "\n",
    "# check for success\n",
    "if not df['lang'].eq('en').all():\n",
    "    print(df.query('lang != \"en\"'))"
   ]
  },
  {
   "cell_type": "markdown",
   "id": "fdb393a3",
   "metadata": {},
   "source": [
    "#### 3. Date aktualisieren"
   ]
  },
  {
   "cell_type": "code",
   "execution_count": 4,
   "id": "4c32969b",
   "metadata": {},
   "outputs": [],
   "source": [
    "df['date'] = pd.to_datetime(df['date']).dt.tz_localize(None)"
   ]
  },
  {
   "cell_type": "markdown",
   "id": "3ce97780",
   "metadata": {},
   "source": [
    "#### 4. Irrelevante Daten löschen"
   ]
  },
  {
   "cell_type": "code",
   "execution_count": 5,
   "id": "64015be4",
   "metadata": {},
   "outputs": [],
   "source": [
    "df.drop(columns=['lang', 'replyCount', 'retweetCount', 'likeCount'], inplace=True)"
   ]
  },
  {
   "cell_type": "markdown",
   "id": "cc1e439d",
   "metadata": {},
   "source": [
    "#### 5. Gesäuberten Datensatz speichern"
   ]
  },
  {
   "cell_type": "code",
   "execution_count": 9,
   "id": "da93d084",
   "metadata": {},
   "outputs": [],
   "source": [
    "df.set_index('url', inplace=True)\n",
    "df.reset_index(inplace=True)\n",
    "df.to_feather('../data/intermediate/twitter_tweets_intermediate.feather')"
   ]
  },
  {
   "cell_type": "markdown",
   "id": "5a7d54a9",
   "metadata": {},
   "source": [
    "---"
   ]
  },
  {
   "cell_type": "markdown",
   "id": "1562e931",
   "metadata": {},
   "source": [
    "## Preprocessing Pipeline <a name=\"preprocessing_pipeline\"></a>"
   ]
  },
  {
   "cell_type": "markdown",
   "id": "f56b4b3e",
   "metadata": {},
   "source": [
    "Nachfolgend werden die enthaltenen Textdaten einer speziell entwickelten Preprocessing Pipeline zugeführt. Die Durchführung der Preprocessing Pipeline hat einen entscheidenden Einfluss auf die Qualität und das spätere Ergebnis der Modellierungen. Die Hauptaufgabe der Preprocessing Pipeline besteht darin, sicherzustellen, dass die Textdaten für die Modellierung geeignet und optimal vorbereitet sind. Die speziell für die Anforderungen dieses Projekts entworfene Pipeline kann visuell wie folgt dargestellt werden:"
   ]
  },
  {
   "cell_type": "markdown",
   "id": "c537c985",
   "metadata": {},
   "source": [
    "TODO: ABBILDUNG VON DER PREPROCESSING PIPELINE"
   ]
  },
  {
   "cell_type": "markdown",
   "id": "d363534b",
   "metadata": {},
   "source": [
    "#### 🧩 Preprocessing Pipeline ☕"
   ]
  },
  {
   "cell_type": "code",
   "execution_count": 13,
   "id": "c11f958b",
   "metadata": {},
   "outputs": [
    {
     "name": "stderr",
     "output_type": "stream",
     "text": [
      "2023-06-28 10:25:22,981 - INFO - initialize pipeline and download required nltk packages...\n",
      "[nltk_data] Downloading package punkt to\n",
      "[nltk_data]     C:\\Users\\lukas\\AppData\\Roaming\\nltk_data...\n",
      "[nltk_data]   Package punkt is already up-to-date!\n",
      "[nltk_data] Downloading package stopwords to\n",
      "[nltk_data]     C:\\Users\\lukas\\AppData\\Roaming\\nltk_data...\n",
      "[nltk_data]   Package stopwords is already up-to-date!\n",
      "[nltk_data] Downloading package wordnet to\n",
      "[nltk_data]     C:\\Users\\lukas\\AppData\\Roaming\\nltk_data...\n",
      "[nltk_data]   Package wordnet is already up-to-date!\n",
      "2023-06-28 10:25:23,086 - WARNING - starting default preprocessing pipeline\n",
      "2023-06-28 10:25:23,086 - INFO - remove urls...\n",
      "100%|██████████████████████████████████████████████████████████████████████| 960217/960217 [00:15<00:00, 63413.64it/s]\n",
      "2023-06-28 10:25:38,302 - INFO - remove twitter user mentions...\n",
      "100%|█████████████████████████████████████████████████████████████████████| 960217/960217 [00:04<00:00, 230240.30it/s]\n",
      "2023-06-28 10:25:42,539 - INFO - fix contractions...\n",
      "100%|██████████████████████████████████████████████████████████████████████| 960217/960217 [00:12<00:00, 76547.58it/s]\n",
      "2023-06-28 10:25:55,133 - INFO - tokenize text...\n",
      "100%|██████████████████████████████████████████████████████████████████████| 960217/960217 [00:30<00:00, 31926.62it/s]\n",
      "2023-06-28 10:26:25,443 - INFO - lowercase tokens...\n",
      "100%|██████████████████████████████████████████████████████████████████████| 960217/960217 [00:26<00:00, 36081.84it/s]\n",
      "2023-06-28 10:27:34,651 - INFO - remove punctuation...\n",
      "100%|██████████████████████████████████████████████████████████████████████| 960217/960217 [00:35<00:00, 27080.89it/s]\n",
      "2023-06-28 10:28:10,907 - INFO - remove numeric values...\n",
      "100%|██████████████████████████████████████████████████████████████████████| 960217/960217 [00:40<00:00, 23663.96it/s]\n",
      "2023-06-28 10:28:51,924 - INFO - remove stopwords...\n",
      "100%|██████████████████████████████████████████████████████████████████████| 960217/960217 [00:49<00:00, 19584.85it/s]\n",
      "2023-06-28 10:29:42,390 - INFO - remove emojis...\n",
      "100%|██████████████████████████████████████████████████████████████████████| 960217/960217 [00:42<00:00, 22399.14it/s]\n",
      "2023-06-28 10:30:26,109 - INFO - lemmatize tokens...\n",
      "100%|██████████████████████████████████████████████████████████████████████| 960217/960217 [01:16<00:00, 12557.34it/s]\n",
      "2023-06-28 10:31:43,492 - INFO - preprocessing completed successfully!\n"
     ]
    }
   ],
   "source": [
    "%%script false\n",
    "from src.features.preprocessing_pipeline import *\n",
    "import pandas as pd\n",
    "\n",
    "# run preprocessing pipeline\n",
    "pipeline = DefaultPipeline(dataframe=pd.read_feather('../data/intermediate/twitter_tweets_intermediate.feather'))\n",
    "df = pipeline.run()\n",
    "\n",
    "# save preprocessed data set\n",
    "df.to_feather('../data/processed/twitter_tweets_processed_2.feather')\n",
    "df.to_csv('../data/processed/twitter_tweets_processed_2.csv', index=False)"
   ]
  },
  {
   "cell_type": "markdown",
   "id": "948f3fb2",
   "metadata": {},
   "source": [
    "#### 0. Packages & Datensatz laden "
   ]
  },
  {
   "cell_type": "code",
   "execution_count": 1,
   "id": "f82f047c",
   "metadata": {},
   "outputs": [
    {
     "name": "stderr",
     "output_type": "stream",
     "text": [
      "[nltk_data] Downloading package punkt to\n",
      "[nltk_data]     C:\\Users\\lukas\\AppData\\Roaming\\nltk_data...\n",
      "[nltk_data]   Package punkt is already up-to-date!\n",
      "[nltk_data] Downloading package stopwords to\n",
      "[nltk_data]     C:\\Users\\lukas\\AppData\\Roaming\\nltk_data...\n",
      "[nltk_data]   Package stopwords is already up-to-date!\n",
      "[nltk_data] Downloading package wordnet to\n",
      "[nltk_data]     C:\\Users\\lukas\\AppData\\Roaming\\nltk_data...\n",
      "[nltk_data]   Package wordnet is already up-to-date!\n"
     ]
    }
   ],
   "source": [
    "import pandas as pd\n",
    "import contractions\n",
    "import nltk\n",
    "import string\n",
    "import emoji\n",
    "import re\n",
    "\n",
    "from tqdm import tqdm\n",
    "\n",
    "from nltk.corpus import stopwords\n",
    "from nltk.stem import WordNetLemmatizer\n",
    "from nltk.tokenize import WordPunctTokenizer\n",
    "\n",
    "# download required nltk packages\n",
    "nltk.download('punkt')\n",
    "nltk.download('stopwords')\n",
    "nltk.download('wordnet')\n",
    "\n",
    "# enable progress bar\n",
    "tqdm.pandas()\n",
    "\n",
    "# load dataframe\n",
    "df = pd.read_feather('../data/intermediate/twitter_tweets_intermediate.feather')"
   ]
  },
  {
   "cell_type": "markdown",
   "id": "9d4937c7",
   "metadata": {},
   "source": [
    "#### 1.  URLs entfernen"
   ]
  },
  {
   "cell_type": "code",
   "execution_count": 2,
   "id": "edf78af1",
   "metadata": {},
   "outputs": [
    {
     "name": "stderr",
     "output_type": "stream",
     "text": [
      "100%|██████████████████████████████████████████████████████████████████████| 960217/960217 [00:14<00:00, 65563.58it/s]\n"
     ]
    }
   ],
   "source": [
    "def remove_urls(text):\n",
    "    # define regex pattern for url detection\n",
    "    url_pattern = re.compile(r'\\b(?:https?://)?(?:[a-z]+\\.[a-z]+\\.[a-z]+|[a-z]+\\.[a-z]+(?:/[^\\s]*)?)\\b')\n",
    "    # remove url matches from the text\n",
    "    text_without_urls = re.sub(url_pattern, '', text)\n",
    "    return text_without_urls\n",
    "\n",
    "df['preprocessed_text'] = df['rawContent'].progress_apply(remove_urls)"
   ]
  },
  {
   "cell_type": "markdown",
   "id": "cd2ce29d",
   "metadata": {},
   "source": [
    "#### 2.  Erwähnungen entfernen"
   ]
  },
  {
   "cell_type": "code",
   "execution_count": 3,
   "id": "f526f0d4",
   "metadata": {},
   "outputs": [
    {
     "name": "stderr",
     "output_type": "stream",
     "text": [
      "100%|█████████████████████████████████████████████████████████████████████| 960217/960217 [00:03<00:00, 305004.41it/s]\n"
     ]
    }
   ],
   "source": [
    "def remove_mentions(text):\n",
    "    # define regex pattern for user mentions\n",
    "    mention_pattern = re.compile(r'@\\w+')\n",
    "    # remove user mentions from the text\n",
    "    text_without_mentions = re.sub(mention_pattern, '', text)\n",
    "    return text_without_mentions\n",
    "\n",
    "df['preprocessed_text'] = df['preprocessed_text'].progress_apply(remove_mentions)"
   ]
  },
  {
   "cell_type": "markdown",
   "id": "54c919f9",
   "metadata": {},
   "source": [
    "#### 3. Kontraktionen auflösen"
   ]
  },
  {
   "cell_type": "code",
   "execution_count": 4,
   "id": "72986f90",
   "metadata": {},
   "outputs": [
    {
     "name": "stderr",
     "output_type": "stream",
     "text": [
      "100%|██████████████████████████████████████████████████████████████████████| 960217/960217 [00:12<00:00, 78139.59it/s]\n"
     ]
    }
   ],
   "source": [
    "def fix_contractions(text):\n",
    "    try:\n",
    "        return contractions.fix(text)\n",
    "    except IndexError: # error should not appear\n",
    "        return text\n",
    "\n",
    "df['preprocessed_text'] = df['preprocessed_text'].progress_apply(fix_contractions)"
   ]
  },
  {
   "cell_type": "markdown",
   "id": "2a08c14d",
   "metadata": {},
   "source": [
    "#### 4. Tokenization durchführen"
   ]
  },
  {
   "cell_type": "code",
   "execution_count": 5,
   "id": "101c8250",
   "metadata": {
    "scrolled": true
   },
   "outputs": [
    {
     "name": "stderr",
     "output_type": "stream",
     "text": [
      "100%|██████████████████████████████████████████████████████████████████████| 960217/960217 [00:16<00:00, 57220.04it/s]\n"
     ]
    }
   ],
   "source": [
    "# define tokenizer function\n",
    "tokenizer = WordPunctTokenizer()\n",
    "\n",
    "def tokenize_text(text):\n",
    "    return tokenizer.tokenize(text)\n",
    "\n",
    "df['preprocessed_text'] = df['preprocessed_text'].progress_apply(tokenize_text)"
   ]
  },
  {
   "cell_type": "markdown",
   "id": "ce8b8b58",
   "metadata": {},
   "source": [
    "#### 5. Tokens in Kleinbuchstaben umwandeln"
   ]
  },
  {
   "cell_type": "code",
   "execution_count": 6,
   "id": "678c564d",
   "metadata": {},
   "outputs": [
    {
     "name": "stderr",
     "output_type": "stream",
     "text": [
      "100%|██████████████████████████████████████████████████████████████████████| 960217/960217 [00:13<00:00, 70032.29it/s]\n"
     ]
    }
   ],
   "source": [
    "def lowercase(tokens):\n",
    "    return [token.lower() for token in tokens]\n",
    "\n",
    "df['preprocessed_text'] = df['preprocessed_text'].progress_apply(lowercase)"
   ]
  },
  {
   "cell_type": "markdown",
   "id": "2acb8f50",
   "metadata": {},
   "source": [
    "#### 6. Satzzeichen entfernen "
   ]
  },
  {
   "cell_type": "code",
   "execution_count": 7,
   "id": "e904f8ce",
   "metadata": {},
   "outputs": [
    {
     "name": "stderr",
     "output_type": "stream",
     "text": [
      "100%|█████████████████████████████████████████████████████████████████████| 960217/960217 [00:07<00:00, 124969.19it/s]\n"
     ]
    }
   ],
   "source": [
    "# adding more characters to the punctuation list\n",
    "punct = string.punctuation + \"’\" + \"``\" +\"`\" + \"''\" +\"'\" + \"•\" + \"“\" + \"”\" + \"…\" + \"�\" + \"‘\" + \"…\" + \"/…\" + \"-…\" + \"-#\" + \"’\" + \"...\" + \".”\" + \"!!\"\n",
    "\n",
    "def remove_punct(tokens):\n",
    "    return [token for token in tokens if token not in punct]\n",
    "\n",
    "df['preprocessed_text'] = df['preprocessed_text'].progress_apply(remove_punct)"
   ]
  },
  {
   "cell_type": "markdown",
   "id": "115b3f4a",
   "metadata": {},
   "source": [
    "#### 7.  Numerische Daten entfernen"
   ]
  },
  {
   "cell_type": "code",
   "execution_count": 8,
   "id": "8605fcea",
   "metadata": {},
   "outputs": [
    {
     "name": "stderr",
     "output_type": "stream",
     "text": [
      "100%|█████████████████████████████████████████████████████████████████████| 960217/960217 [00:05<00:00, 178545.31it/s]\n"
     ]
    }
   ],
   "source": [
    "def remove_numerics(tokens):\n",
    "    return [token for token in tokens if not token.isdigit()]\n",
    "\n",
    "df['preprocessed_text'] = df['preprocessed_text'].progress_apply(remove_numerics)"
   ]
  },
  {
   "cell_type": "markdown",
   "id": "c4c66dc0",
   "metadata": {},
   "source": [
    "#### 8.  Stopwörter entfernen"
   ]
  },
  {
   "cell_type": "code",
   "execution_count": 9,
   "id": "b2cdb450",
   "metadata": {},
   "outputs": [
    {
     "name": "stderr",
     "output_type": "stream",
     "text": [
      "100%|██████████████████████████████████████████████████████████████████████| 960217/960217 [00:46<00:00, 20701.79it/s]\n"
     ]
    }
   ],
   "source": [
    "# define list of stopwords\n",
    "stop_words = stopwords.words('english')\n",
    "\n",
    "additional_stop_words = ['u']\n",
    "stop_words.extend(additional_stop_words)\n",
    "\n",
    "def remove_stopwords(tokens):\n",
    "    return [token for token in tokens if token not in stop_words and len(token) > 1]\n",
    "\n",
    "df['preprocessed_text'] = df['preprocessed_text'].progress_apply(remove_stopwords)"
   ]
  },
  {
   "cell_type": "markdown",
   "id": "f0c0bbf3",
   "metadata": {},
   "source": [
    "#### 9.  Emojis entfernen"
   ]
  },
  {
   "cell_type": "code",
   "execution_count": 10,
   "id": "0f21c182",
   "metadata": {},
   "outputs": [
    {
     "name": "stderr",
     "output_type": "stream",
     "text": [
      "100%|██████████████████████████████████████████████████████████████████████| 960217/960217 [00:19<00:00, 48733.49it/s]\n"
     ]
    }
   ],
   "source": [
    "def remove_emoji(tokens):\n",
    "    return [token for token in tokens if not any(char in emoji.EMOJI_DATA for char in token)]\n",
    "\n",
    "df['preprocessed_text'] = df['preprocessed_text'].progress_apply(remove_emoji)"
   ]
  },
  {
   "cell_type": "markdown",
   "id": "66082400",
   "metadata": {},
   "source": [
    "#### 10. Lemmatisierung durchführen"
   ]
  },
  {
   "cell_type": "code",
   "execution_count": 11,
   "id": "4aad7019",
   "metadata": {},
   "outputs": [
    {
     "name": "stderr",
     "output_type": "stream",
     "text": [
      "100%|██████████████████████████████████████████████████████████████████████| 960217/960217 [01:03<00:00, 15208.99it/s]\n"
     ]
    }
   ],
   "source": [
    "# initialization of the lemmatizer\n",
    "lemmatizer = WordNetLemmatizer()\n",
    "\n",
    "def lemmatize(tokens):\n",
    "    return [lemmatizer.lemmatize(token) for token in tokens]\n",
    "\n",
    "df['preprocessed_text'] = df['preprocessed_text'].progress_apply(lemmatize)"
   ]
  },
  {
   "cell_type": "markdown",
   "id": "12981cc3",
   "metadata": {},
   "source": [
    "#### 11. Preprocessed Datensatz speichern"
   ]
  },
  {
   "cell_type": "code",
   "execution_count": 12,
   "id": "f77a4e9e",
   "metadata": {},
   "outputs": [],
   "source": [
    "df.to_feather('../data/processed/twitter_tweets_processed.feather')\n",
    "df.to_csv('../data/processed/twitter_tweets_processed.csv', index=False)"
   ]
  },
  {
   "cell_type": "markdown",
   "id": "90561981",
   "metadata": {},
   "source": [
    "---"
   ]
  }
 ],
 "metadata": {
  "kernelspec": {
   "display_name": "Python 3 (ipykernel)",
   "language": "python",
   "name": "python3"
  },
  "language_info": {
   "codemirror_mode": {
    "name": "ipython",
    "version": 3
   },
   "file_extension": ".py",
   "mimetype": "text/x-python",
   "name": "python",
   "nbconvert_exporter": "python",
   "pygments_lexer": "ipython3",
   "version": "3.11.3"
  }
 },
 "nbformat": 4,
 "nbformat_minor": 5
}
