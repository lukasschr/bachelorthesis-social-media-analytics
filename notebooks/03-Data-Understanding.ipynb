{
 "cells": [
  {
   "cell_type": "markdown",
   "id": "db00a74f",
   "metadata": {},
   "source": [
    "# Data Understanding"
   ]
  },
  {
   "cell_type": "markdown",
   "id": "24ea6d68",
   "metadata": {},
   "source": [
    "Nun gilt es den gesammelten Datensatz zu beschreiben und zu untersuchen. Die Untersuchung dient dem Zweck die Daten hinsichtlich ihrer Qualität bewerten zu können und Maßnahmen für das Data Cleaning zu beschließen."
   ]
  },
  {
   "cell_type": "markdown",
   "id": "17034689",
   "metadata": {},
   "source": [
    "#### 0. Lade Datensatz"
   ]
  },
  {
   "cell_type": "code",
   "execution_count": null,
   "id": "581f7e1b",
   "metadata": {},
   "outputs": [],
   "source": [
    "import pandas as pd\n",
    "\n",
    "df = pd.read_feather('../data/raw/twitter_tweets_raw.feather')\n",
    "\n",
    "df.head(5)"
   ]
  },
  {
   "cell_type": "markdown",
   "id": "7690370a",
   "metadata": {},
   "source": [
    "#### 1. Überblick"
   ]
  },
  {
   "cell_type": "code",
   "execution_count": null,
   "id": "36a21e5c",
   "metadata": {},
   "outputs": [],
   "source": [
    "df.dtypes"
   ]
  },
  {
   "cell_type": "markdown",
   "id": "178e3019",
   "metadata": {},
   "source": [
    "#### 2. Überprüfe Anforderungen an den Datensatz\n",
    "\n",
    "Zur Bewertung der Datenqualität ist es erforderlich, die Konformität der Daten mit den zuvor definierten Anforderungen zu überprüfen. In diesem Zusammenhang werden die folgenden Untersuchungen durchgeführt:\n",
    "\n",
    "- Überprüfung auf Zeitraum: Es wird überprüft, ob alle Beiträge innerhalb des angegebenen Zeitraums erstellt wurden. Hierbei werden mögliche Lücken in den Daten identifiziert.\n",
    "<br>\n",
    "\n",
    "- Überprüfung der Vollständigkeit: Es wird untersucht, ob alle Beiträge Textdaten enthalten\n",
    "<br>\n",
    "\n",
    "- Identifikation von Duplikaten: Es erfolgt eine systematische Untersuchung, um das Vorhandensein von Duplikaten innerhalb der Beiträge festzustellen. Dies ermöglicht eine präzise Einschätzung der Datenintegrität und die Vermeidung von doppelten Informationen. \n",
    "<br>\n",
    "\n",
    "- Sprachliche Überprüfung: Es wird geprüft, ob alle Beiträge in englischer Sprache verfasst sind, um sicherzustellen, dass die Daten konsistent und für die geplante Analyse geeignet sind."
   ]
  },
  {
   "cell_type": "code",
   "execution_count": null,
   "id": "f53f17a5",
   "metadata": {},
   "outputs": [],
   "source": [
    "# check whether all posts were created within the selected period\n",
    "# expected result: True\n",
    "import datetime\n",
    "\n",
    "_ = df.copy()\n",
    "_['date'] = pd.to_datetime(_.date).dt.tz_localize(None)\n",
    "\n",
    "_.query('date < \"2018-04-01\" or date > \"2023-04-01\"').empty"
   ]
  },
  {
   "cell_type": "code",
   "execution_count": null,
   "id": "67b059c6",
   "metadata": {},
   "outputs": [],
   "source": [
    "# check if entries have no text\n",
    "# expected result: False\n",
    "\n",
    "df['rawContent'].isnull().any()"
   ]
  },
  {
   "cell_type": "code",
   "execution_count": null,
   "id": "cfec7c12",
   "metadata": {},
   "outputs": [],
   "source": [
    "# check for duplicates\n",
    "# expected result: False\n",
    "\n",
    "df['rawContent'].duplicated().any()"
   ]
  },
  {
   "cell_type": "code",
   "execution_count": null,
   "id": "5e5756da",
   "metadata": {},
   "outputs": [],
   "source": [
    "# check if all texts are in English\n",
    "# expected result: True\n",
    "\n",
    "df['lang'].eq('en').all()"
   ]
  },
  {
   "cell_type": "markdown",
   "id": "9e20b3b4",
   "metadata": {},
   "source": [
    "---"
   ]
  }
 ],
 "metadata": {
  "kernelspec": {
   "display_name": "Python 3 (ipykernel)",
   "language": "python",
   "name": "python3"
  },
  "language_info": {
   "codemirror_mode": {
    "name": "ipython",
    "version": 3
   },
   "file_extension": ".py",
   "mimetype": "text/x-python",
   "name": "python",
   "nbconvert_exporter": "python",
   "pygments_lexer": "ipython3",
   "version": "3.11.3"
  }
 },
 "nbformat": 4,
 "nbformat_minor": 5
}
